{
  "nbformat": 4,
  "nbformat_minor": 0,
  "metadata": {
    "colab": {
      "provenance": [],
      "include_colab_link": true
    },
    "kernelspec": {
      "name": "python3",
      "display_name": "Python 3"
    },
    "language_info": {
      "name": "python"
    }
  },
  "cells": [
    {
      "cell_type": "markdown",
      "metadata": {
        "id": "view-in-github",
        "colab_type": "text"
      },
      "source": [
        "<a href=\"https://colab.research.google.com/github/Pathreeswaris/Car_-Price-and-Car_Class/blob/main/Car_Price_Car_Classs_Project.ipynb\" target=\"_parent\"><img src=\"https://colab.research.google.com/assets/colab-badge.svg\" alt=\"Open In Colab\"/></a>"
      ]
    },
    {
      "cell_type": "code",
      "execution_count": null,
      "metadata": {
        "colab": {
          "base_uri": "https://localhost:8080/",
          "height": 270
        },
        "id": "itpwjCBv8tHI",
        "outputId": "98435679-682b-494c-8591-1e3a4f4ec0d9"
      },
      "outputs": [
        {
          "output_type": "execute_result",
          "data": {
            "text/plain": [
              "   ID  Comp  Circ  D.Circ  Rad.Ra  Pr.Axis.Ra  Max.L.Ra  Scat.Ra  Elong  \\\n",
              "0   1    88    39      70     166          66         7      148     44   \n",
              "1   2    85    35      64     129          57         6      116     57   \n",
              "2   3    91    41      84     141          57         9      149     45   \n",
              "3   4   102    54      98     177          56        10      219     31   \n",
              "4   5    87    39      74     152          58         6      151     44   \n",
              "\n",
              "   Pr.Axis.Rect  Max.L.Rect  Sc.Var.Maxis  Sc.Var.maxis  Ra.Gyr  Skew.Maxis  \\\n",
              "0            19         134           167           332     143          69   \n",
              "1            17         125           138           200     123          65   \n",
              "2            19         143           170           330     158          72   \n",
              "3            25         171           219           706     223          72   \n",
              "4            19         136           174           337     140          70   \n",
              "\n",
              "   Skew.maxis  Kurt.maxis  Kurt.Maxis  Holl.Ra  Class  \n",
              "0           5          13         193      201      0  \n",
              "1           1          23         196      203      3  \n",
              "2           9          14         189      199      3  \n",
              "3           5          17         186      196      1  \n",
              "4           1          33         187      196      2  "
            ],
            "text/html": [
              "\n",
              "  <div id=\"df-0a3cb241-e5d6-4084-8f7c-3aa9983115e8\">\n",
              "    <div class=\"colab-df-container\">\n",
              "      <div>\n",
              "<style scoped>\n",
              "    .dataframe tbody tr th:only-of-type {\n",
              "        vertical-align: middle;\n",
              "    }\n",
              "\n",
              "    .dataframe tbody tr th {\n",
              "        vertical-align: top;\n",
              "    }\n",
              "\n",
              "    .dataframe thead th {\n",
              "        text-align: right;\n",
              "    }\n",
              "</style>\n",
              "<table border=\"1\" class=\"dataframe\">\n",
              "  <thead>\n",
              "    <tr style=\"text-align: right;\">\n",
              "      <th></th>\n",
              "      <th>ID</th>\n",
              "      <th>Comp</th>\n",
              "      <th>Circ</th>\n",
              "      <th>D.Circ</th>\n",
              "      <th>Rad.Ra</th>\n",
              "      <th>Pr.Axis.Ra</th>\n",
              "      <th>Max.L.Ra</th>\n",
              "      <th>Scat.Ra</th>\n",
              "      <th>Elong</th>\n",
              "      <th>Pr.Axis.Rect</th>\n",
              "      <th>Max.L.Rect</th>\n",
              "      <th>Sc.Var.Maxis</th>\n",
              "      <th>Sc.Var.maxis</th>\n",
              "      <th>Ra.Gyr</th>\n",
              "      <th>Skew.Maxis</th>\n",
              "      <th>Skew.maxis</th>\n",
              "      <th>Kurt.maxis</th>\n",
              "      <th>Kurt.Maxis</th>\n",
              "      <th>Holl.Ra</th>\n",
              "      <th>Class</th>\n",
              "    </tr>\n",
              "  </thead>\n",
              "  <tbody>\n",
              "    <tr>\n",
              "      <th>0</th>\n",
              "      <td>1</td>\n",
              "      <td>88</td>\n",
              "      <td>39</td>\n",
              "      <td>70</td>\n",
              "      <td>166</td>\n",
              "      <td>66</td>\n",
              "      <td>7</td>\n",
              "      <td>148</td>\n",
              "      <td>44</td>\n",
              "      <td>19</td>\n",
              "      <td>134</td>\n",
              "      <td>167</td>\n",
              "      <td>332</td>\n",
              "      <td>143</td>\n",
              "      <td>69</td>\n",
              "      <td>5</td>\n",
              "      <td>13</td>\n",
              "      <td>193</td>\n",
              "      <td>201</td>\n",
              "      <td>0</td>\n",
              "    </tr>\n",
              "    <tr>\n",
              "      <th>1</th>\n",
              "      <td>2</td>\n",
              "      <td>85</td>\n",
              "      <td>35</td>\n",
              "      <td>64</td>\n",
              "      <td>129</td>\n",
              "      <td>57</td>\n",
              "      <td>6</td>\n",
              "      <td>116</td>\n",
              "      <td>57</td>\n",
              "      <td>17</td>\n",
              "      <td>125</td>\n",
              "      <td>138</td>\n",
              "      <td>200</td>\n",
              "      <td>123</td>\n",
              "      <td>65</td>\n",
              "      <td>1</td>\n",
              "      <td>23</td>\n",
              "      <td>196</td>\n",
              "      <td>203</td>\n",
              "      <td>3</td>\n",
              "    </tr>\n",
              "    <tr>\n",
              "      <th>2</th>\n",
              "      <td>3</td>\n",
              "      <td>91</td>\n",
              "      <td>41</td>\n",
              "      <td>84</td>\n",
              "      <td>141</td>\n",
              "      <td>57</td>\n",
              "      <td>9</td>\n",
              "      <td>149</td>\n",
              "      <td>45</td>\n",
              "      <td>19</td>\n",
              "      <td>143</td>\n",
              "      <td>170</td>\n",
              "      <td>330</td>\n",
              "      <td>158</td>\n",
              "      <td>72</td>\n",
              "      <td>9</td>\n",
              "      <td>14</td>\n",
              "      <td>189</td>\n",
              "      <td>199</td>\n",
              "      <td>3</td>\n",
              "    </tr>\n",
              "    <tr>\n",
              "      <th>3</th>\n",
              "      <td>4</td>\n",
              "      <td>102</td>\n",
              "      <td>54</td>\n",
              "      <td>98</td>\n",
              "      <td>177</td>\n",
              "      <td>56</td>\n",
              "      <td>10</td>\n",
              "      <td>219</td>\n",
              "      <td>31</td>\n",
              "      <td>25</td>\n",
              "      <td>171</td>\n",
              "      <td>219</td>\n",
              "      <td>706</td>\n",
              "      <td>223</td>\n",
              "      <td>72</td>\n",
              "      <td>5</td>\n",
              "      <td>17</td>\n",
              "      <td>186</td>\n",
              "      <td>196</td>\n",
              "      <td>1</td>\n",
              "    </tr>\n",
              "    <tr>\n",
              "      <th>4</th>\n",
              "      <td>5</td>\n",
              "      <td>87</td>\n",
              "      <td>39</td>\n",
              "      <td>74</td>\n",
              "      <td>152</td>\n",
              "      <td>58</td>\n",
              "      <td>6</td>\n",
              "      <td>151</td>\n",
              "      <td>44</td>\n",
              "      <td>19</td>\n",
              "      <td>136</td>\n",
              "      <td>174</td>\n",
              "      <td>337</td>\n",
              "      <td>140</td>\n",
              "      <td>70</td>\n",
              "      <td>1</td>\n",
              "      <td>33</td>\n",
              "      <td>187</td>\n",
              "      <td>196</td>\n",
              "      <td>2</td>\n",
              "    </tr>\n",
              "  </tbody>\n",
              "</table>\n",
              "</div>\n",
              "      <button class=\"colab-df-convert\" onclick=\"convertToInteractive('df-0a3cb241-e5d6-4084-8f7c-3aa9983115e8')\"\n",
              "              title=\"Convert this dataframe to an interactive table.\"\n",
              "              style=\"display:none;\">\n",
              "        \n",
              "  <svg xmlns=\"http://www.w3.org/2000/svg\" height=\"24px\"viewBox=\"0 0 24 24\"\n",
              "       width=\"24px\">\n",
              "    <path d=\"M0 0h24v24H0V0z\" fill=\"none\"/>\n",
              "    <path d=\"M18.56 5.44l.94 2.06.94-2.06 2.06-.94-2.06-.94-.94-2.06-.94 2.06-2.06.94zm-11 1L8.5 8.5l.94-2.06 2.06-.94-2.06-.94L8.5 2.5l-.94 2.06-2.06.94zm10 10l.94 2.06.94-2.06 2.06-.94-2.06-.94-.94-2.06-.94 2.06-2.06.94z\"/><path d=\"M17.41 7.96l-1.37-1.37c-.4-.4-.92-.59-1.43-.59-.52 0-1.04.2-1.43.59L10.3 9.45l-7.72 7.72c-.78.78-.78 2.05 0 2.83L4 21.41c.39.39.9.59 1.41.59.51 0 1.02-.2 1.41-.59l7.78-7.78 2.81-2.81c.8-.78.8-2.07 0-2.86zM5.41 20L4 18.59l7.72-7.72 1.47 1.35L5.41 20z\"/>\n",
              "  </svg>\n",
              "      </button>\n",
              "      \n",
              "  <style>\n",
              "    .colab-df-container {\n",
              "      display:flex;\n",
              "      flex-wrap:wrap;\n",
              "      gap: 12px;\n",
              "    }\n",
              "\n",
              "    .colab-df-convert {\n",
              "      background-color: #E8F0FE;\n",
              "      border: none;\n",
              "      border-radius: 50%;\n",
              "      cursor: pointer;\n",
              "      display: none;\n",
              "      fill: #1967D2;\n",
              "      height: 32px;\n",
              "      padding: 0 0 0 0;\n",
              "      width: 32px;\n",
              "    }\n",
              "\n",
              "    .colab-df-convert:hover {\n",
              "      background-color: #E2EBFA;\n",
              "      box-shadow: 0px 1px 2px rgba(60, 64, 67, 0.3), 0px 1px 3px 1px rgba(60, 64, 67, 0.15);\n",
              "      fill: #174EA6;\n",
              "    }\n",
              "\n",
              "    [theme=dark] .colab-df-convert {\n",
              "      background-color: #3B4455;\n",
              "      fill: #D2E3FC;\n",
              "    }\n",
              "\n",
              "    [theme=dark] .colab-df-convert:hover {\n",
              "      background-color: #434B5C;\n",
              "      box-shadow: 0px 1px 3px 1px rgba(0, 0, 0, 0.15);\n",
              "      filter: drop-shadow(0px 1px 2px rgba(0, 0, 0, 0.3));\n",
              "      fill: #FFFFFF;\n",
              "    }\n",
              "  </style>\n",
              "\n",
              "      <script>\n",
              "        const buttonEl =\n",
              "          document.querySelector('#df-0a3cb241-e5d6-4084-8f7c-3aa9983115e8 button.colab-df-convert');\n",
              "        buttonEl.style.display =\n",
              "          google.colab.kernel.accessAllowed ? 'block' : 'none';\n",
              "\n",
              "        async function convertToInteractive(key) {\n",
              "          const element = document.querySelector('#df-0a3cb241-e5d6-4084-8f7c-3aa9983115e8');\n",
              "          const dataTable =\n",
              "            await google.colab.kernel.invokeFunction('convertToInteractive',\n",
              "                                                     [key], {});\n",
              "          if (!dataTable) return;\n",
              "\n",
              "          const docLinkHtml = 'Like what you see? Visit the ' +\n",
              "            '<a target=\"_blank\" href=https://colab.research.google.com/notebooks/data_table.ipynb>data table notebook</a>'\n",
              "            + ' to learn more about interactive tables.';\n",
              "          element.innerHTML = '';\n",
              "          dataTable['output_type'] = 'display_data';\n",
              "          await google.colab.output.renderOutput(dataTable, element);\n",
              "          const docLink = document.createElement('div');\n",
              "          docLink.innerHTML = docLinkHtml;\n",
              "          element.appendChild(docLink);\n",
              "        }\n",
              "      </script>\n",
              "    </div>\n",
              "  </div>\n",
              "  "
            ]
          },
          "metadata": {},
          "execution_count": 2
        }
      ],
      "source": [
        "#import neccessary library\n",
        "import pandas as pd\n",
        "df=pd.read_csv(\"/content/cars_class.csv\")\n",
        "df.head()"
      ]
    },
    {
      "cell_type": "markdown",
      "source": [
        "**DATA CLEANING**"
      ],
      "metadata": {
        "id": "EiQOijG998Qd"
      }
    },
    {
      "cell_type": "markdown",
      "source": [
        "1.checking null values present in the data"
      ],
      "metadata": {
        "id": "4MEWZAja-B5t"
      }
    },
    {
      "cell_type": "code",
      "source": [
        "df.isnull().sum()"
      ],
      "metadata": {
        "colab": {
          "base_uri": "https://localhost:8080/"
        },
        "id": "HOqWY1DR9_jG",
        "outputId": "781c7931-98fa-4850-db15-50281c2e7354"
      },
      "execution_count": null,
      "outputs": [
        {
          "output_type": "execute_result",
          "data": {
            "text/plain": [
              "ID              0\n",
              "Comp            0\n",
              "Circ            0\n",
              "D.Circ          0\n",
              "Rad.Ra          0\n",
              "Pr.Axis.Ra      0\n",
              "Max.L.Ra        0\n",
              "Scat.Ra         0\n",
              "Elong           0\n",
              "Pr.Axis.Rect    0\n",
              "Max.L.Rect      0\n",
              "Sc.Var.Maxis    0\n",
              "Sc.Var.maxis    0\n",
              "Ra.Gyr          0\n",
              "Skew.Maxis      0\n",
              "Skew.maxis      0\n",
              "Kurt.maxis      0\n",
              "Kurt.Maxis      0\n",
              "Holl.Ra         0\n",
              "Class           0\n",
              "dtype: int64"
            ]
          },
          "metadata": {},
          "execution_count": 3
        }
      ]
    },
    {
      "cell_type": "markdown",
      "source": [
        "There are no null values in that dataframe"
      ],
      "metadata": {
        "id": "G--YjVC8-LN3"
      }
    },
    {
      "cell_type": "markdown",
      "source": [
        "2.checking data in the right format"
      ],
      "metadata": {
        "id": "4DLK_hLT-UNs"
      }
    },
    {
      "cell_type": "code",
      "source": [
        "df.dtypes"
      ],
      "metadata": {
        "colab": {
          "base_uri": "https://localhost:8080/"
        },
        "id": "E_4ZZqCu-RvD",
        "outputId": "611bf3ba-98e6-42be-fc14-95cc1bf6197f"
      },
      "execution_count": null,
      "outputs": [
        {
          "output_type": "execute_result",
          "data": {
            "text/plain": [
              "ID              int64\n",
              "Comp            int64\n",
              "Circ            int64\n",
              "D.Circ          int64\n",
              "Rad.Ra          int64\n",
              "Pr.Axis.Ra      int64\n",
              "Max.L.Ra        int64\n",
              "Scat.Ra         int64\n",
              "Elong           int64\n",
              "Pr.Axis.Rect    int64\n",
              "Max.L.Rect      int64\n",
              "Sc.Var.Maxis    int64\n",
              "Sc.Var.maxis    int64\n",
              "Ra.Gyr          int64\n",
              "Skew.Maxis      int64\n",
              "Skew.maxis      int64\n",
              "Kurt.maxis      int64\n",
              "Kurt.Maxis      int64\n",
              "Holl.Ra         int64\n",
              "Class           int64\n",
              "dtype: object"
            ]
          },
          "metadata": {},
          "execution_count": 4
        }
      ]
    },
    {
      "cell_type": "markdown",
      "source": [
        "all data columns in right formate"
      ],
      "metadata": {
        "id": "HnlOdL2a-kX_"
      }
    },
    {
      "cell_type": "markdown",
      "source": [
        "3.checking duplicate data"
      ],
      "metadata": {
        "id": "n3jLVeKJ-rO5"
      }
    },
    {
      "cell_type": "code",
      "source": [
        "print(\"before drop\",df.shape)\n",
        "df.drop_duplicates()\n",
        "print(\"after drop\",df.shape)"
      ],
      "metadata": {
        "colab": {
          "base_uri": "https://localhost:8080/"
        },
        "id": "e7oh8ZdT-whk",
        "outputId": "33672f79-4264-4559-8f7a-29a6febae341"
      },
      "execution_count": null,
      "outputs": [
        {
          "output_type": "stream",
          "name": "stdout",
          "text": [
            "before drop (719, 20)\n",
            "after drop (719, 20)\n"
          ]
        }
      ]
    },
    {
      "cell_type": "markdown",
      "source": [
        "we can see there is no duplicates in that data"
      ],
      "metadata": {
        "id": "OWLBTy5Z-8wU"
      }
    },
    {
      "cell_type": "markdown",
      "source": [
        "4. outliers detection using inter quantile range method"
      ],
      "metadata": {
        "id": "Iqx7hHdP_AwU"
      }
    },
    {
      "cell_type": "code",
      "source": [
        "df.describe()"
      ],
      "metadata": {
        "colab": {
          "base_uri": "https://localhost:8080/",
          "height": 364
        },
        "id": "uDWgtndB_FJE",
        "outputId": "d8137954-83fd-4d6a-f9bb-d9990888f8ac"
      },
      "execution_count": null,
      "outputs": [
        {
          "output_type": "execute_result",
          "data": {
            "text/plain": [
              "               ID        Comp        Circ      D.Circ      Rad.Ra  Pr.Axis.Ra  \\\n",
              "count  719.000000  719.000000  719.000000  719.000000  719.000000  719.000000   \n",
              "mean   360.000000   93.435327   44.851182   81.723227  168.579972   61.847010   \n",
              "std    207.701709    8.111406    6.150286   15.528208   33.809172    8.259136   \n",
              "min      1.000000   73.000000   33.000000   40.000000  105.000000   47.000000   \n",
              "25%    180.500000   87.000000   40.000000   70.000000  141.000000   57.000000   \n",
              "50%    360.000000   93.000000   44.000000   79.000000  166.000000   61.000000   \n",
              "75%    539.500000   99.000000   49.000000   96.000000  194.500000   65.000000   \n",
              "max    719.000000  119.000000   59.000000  110.000000  333.000000  138.000000   \n",
              "\n",
              "         Max.L.Ra     Scat.Ra       Elong  Pr.Axis.Rect  Max.L.Rect  \\\n",
              "count  719.000000  719.000000  719.000000    719.000000  719.000000   \n",
              "mean     8.625869  168.137691   41.075104     20.531293  148.030598   \n",
              "std      4.916908   32.937591    7.764459      2.560969   14.560092   \n",
              "min      2.000000  112.000000   26.000000     17.000000  118.000000   \n",
              "25%      6.000000  146.000000   33.000000     19.000000  137.000000   \n",
              "50%      8.000000  157.000000   43.000000     20.000000  146.000000   \n",
              "75%     10.000000  197.500000   46.000000     23.000000  159.000000   \n",
              "max     55.000000  265.000000   61.000000     29.000000  188.000000   \n",
              "\n",
              "       Sc.Var.Maxis  Sc.Var.maxis      Ra.Gyr  Skew.Maxis  Skew.maxis  \\\n",
              "count    719.000000    719.000000  719.000000  719.000000  719.000000   \n",
              "mean     188.168289    436.215577  174.726008   72.682893    6.343533   \n",
              "std       31.235395    174.964977   32.149568    7.542055    4.856169   \n",
              "min      130.000000    184.000000  109.000000   59.000000    0.000000   \n",
              "25%      167.000000    317.000000  149.000000   68.000000    2.000000   \n",
              "50%      178.000000    362.000000  174.000000   72.000000    6.000000   \n",
              "75%      216.000000    584.500000  198.000000   76.000000    9.000000   \n",
              "max      320.000000   1018.000000  262.000000  135.000000   22.000000   \n",
              "\n",
              "       Kurt.maxis  Kurt.Maxis     Holl.Ra       Class  \n",
              "count  719.000000  719.000000  719.000000  719.000000  \n",
              "mean    12.394993  188.798331  195.407510    1.470097  \n",
              "std      8.742511    6.048522    7.235166    1.126477  \n",
              "min      0.000000  176.000000  181.000000    0.000000  \n",
              "25%      5.500000  184.000000  190.000000    0.000000  \n",
              "50%     11.000000  188.000000  196.000000    1.000000  \n",
              "75%     18.000000  193.000000  201.000000    2.000000  \n",
              "max     41.000000  204.000000  211.000000    3.000000  "
            ],
            "text/html": [
              "\n",
              "  <div id=\"df-27ba01f9-456b-4ff9-a0f0-2520e06e1086\">\n",
              "    <div class=\"colab-df-container\">\n",
              "      <div>\n",
              "<style scoped>\n",
              "    .dataframe tbody tr th:only-of-type {\n",
              "        vertical-align: middle;\n",
              "    }\n",
              "\n",
              "    .dataframe tbody tr th {\n",
              "        vertical-align: top;\n",
              "    }\n",
              "\n",
              "    .dataframe thead th {\n",
              "        text-align: right;\n",
              "    }\n",
              "</style>\n",
              "<table border=\"1\" class=\"dataframe\">\n",
              "  <thead>\n",
              "    <tr style=\"text-align: right;\">\n",
              "      <th></th>\n",
              "      <th>ID</th>\n",
              "      <th>Comp</th>\n",
              "      <th>Circ</th>\n",
              "      <th>D.Circ</th>\n",
              "      <th>Rad.Ra</th>\n",
              "      <th>Pr.Axis.Ra</th>\n",
              "      <th>Max.L.Ra</th>\n",
              "      <th>Scat.Ra</th>\n",
              "      <th>Elong</th>\n",
              "      <th>Pr.Axis.Rect</th>\n",
              "      <th>Max.L.Rect</th>\n",
              "      <th>Sc.Var.Maxis</th>\n",
              "      <th>Sc.Var.maxis</th>\n",
              "      <th>Ra.Gyr</th>\n",
              "      <th>Skew.Maxis</th>\n",
              "      <th>Skew.maxis</th>\n",
              "      <th>Kurt.maxis</th>\n",
              "      <th>Kurt.Maxis</th>\n",
              "      <th>Holl.Ra</th>\n",
              "      <th>Class</th>\n",
              "    </tr>\n",
              "  </thead>\n",
              "  <tbody>\n",
              "    <tr>\n",
              "      <th>count</th>\n",
              "      <td>719.000000</td>\n",
              "      <td>719.000000</td>\n",
              "      <td>719.000000</td>\n",
              "      <td>719.000000</td>\n",
              "      <td>719.000000</td>\n",
              "      <td>719.000000</td>\n",
              "      <td>719.000000</td>\n",
              "      <td>719.000000</td>\n",
              "      <td>719.000000</td>\n",
              "      <td>719.000000</td>\n",
              "      <td>719.000000</td>\n",
              "      <td>719.000000</td>\n",
              "      <td>719.000000</td>\n",
              "      <td>719.000000</td>\n",
              "      <td>719.000000</td>\n",
              "      <td>719.000000</td>\n",
              "      <td>719.000000</td>\n",
              "      <td>719.000000</td>\n",
              "      <td>719.000000</td>\n",
              "      <td>719.000000</td>\n",
              "    </tr>\n",
              "    <tr>\n",
              "      <th>mean</th>\n",
              "      <td>360.000000</td>\n",
              "      <td>93.435327</td>\n",
              "      <td>44.851182</td>\n",
              "      <td>81.723227</td>\n",
              "      <td>168.579972</td>\n",
              "      <td>61.847010</td>\n",
              "      <td>8.625869</td>\n",
              "      <td>168.137691</td>\n",
              "      <td>41.075104</td>\n",
              "      <td>20.531293</td>\n",
              "      <td>148.030598</td>\n",
              "      <td>188.168289</td>\n",
              "      <td>436.215577</td>\n",
              "      <td>174.726008</td>\n",
              "      <td>72.682893</td>\n",
              "      <td>6.343533</td>\n",
              "      <td>12.394993</td>\n",
              "      <td>188.798331</td>\n",
              "      <td>195.407510</td>\n",
              "      <td>1.470097</td>\n",
              "    </tr>\n",
              "    <tr>\n",
              "      <th>std</th>\n",
              "      <td>207.701709</td>\n",
              "      <td>8.111406</td>\n",
              "      <td>6.150286</td>\n",
              "      <td>15.528208</td>\n",
              "      <td>33.809172</td>\n",
              "      <td>8.259136</td>\n",
              "      <td>4.916908</td>\n",
              "      <td>32.937591</td>\n",
              "      <td>7.764459</td>\n",
              "      <td>2.560969</td>\n",
              "      <td>14.560092</td>\n",
              "      <td>31.235395</td>\n",
              "      <td>174.964977</td>\n",
              "      <td>32.149568</td>\n",
              "      <td>7.542055</td>\n",
              "      <td>4.856169</td>\n",
              "      <td>8.742511</td>\n",
              "      <td>6.048522</td>\n",
              "      <td>7.235166</td>\n",
              "      <td>1.126477</td>\n",
              "    </tr>\n",
              "    <tr>\n",
              "      <th>min</th>\n",
              "      <td>1.000000</td>\n",
              "      <td>73.000000</td>\n",
              "      <td>33.000000</td>\n",
              "      <td>40.000000</td>\n",
              "      <td>105.000000</td>\n",
              "      <td>47.000000</td>\n",
              "      <td>2.000000</td>\n",
              "      <td>112.000000</td>\n",
              "      <td>26.000000</td>\n",
              "      <td>17.000000</td>\n",
              "      <td>118.000000</td>\n",
              "      <td>130.000000</td>\n",
              "      <td>184.000000</td>\n",
              "      <td>109.000000</td>\n",
              "      <td>59.000000</td>\n",
              "      <td>0.000000</td>\n",
              "      <td>0.000000</td>\n",
              "      <td>176.000000</td>\n",
              "      <td>181.000000</td>\n",
              "      <td>0.000000</td>\n",
              "    </tr>\n",
              "    <tr>\n",
              "      <th>25%</th>\n",
              "      <td>180.500000</td>\n",
              "      <td>87.000000</td>\n",
              "      <td>40.000000</td>\n",
              "      <td>70.000000</td>\n",
              "      <td>141.000000</td>\n",
              "      <td>57.000000</td>\n",
              "      <td>6.000000</td>\n",
              "      <td>146.000000</td>\n",
              "      <td>33.000000</td>\n",
              "      <td>19.000000</td>\n",
              "      <td>137.000000</td>\n",
              "      <td>167.000000</td>\n",
              "      <td>317.000000</td>\n",
              "      <td>149.000000</td>\n",
              "      <td>68.000000</td>\n",
              "      <td>2.000000</td>\n",
              "      <td>5.500000</td>\n",
              "      <td>184.000000</td>\n",
              "      <td>190.000000</td>\n",
              "      <td>0.000000</td>\n",
              "    </tr>\n",
              "    <tr>\n",
              "      <th>50%</th>\n",
              "      <td>360.000000</td>\n",
              "      <td>93.000000</td>\n",
              "      <td>44.000000</td>\n",
              "      <td>79.000000</td>\n",
              "      <td>166.000000</td>\n",
              "      <td>61.000000</td>\n",
              "      <td>8.000000</td>\n",
              "      <td>157.000000</td>\n",
              "      <td>43.000000</td>\n",
              "      <td>20.000000</td>\n",
              "      <td>146.000000</td>\n",
              "      <td>178.000000</td>\n",
              "      <td>362.000000</td>\n",
              "      <td>174.000000</td>\n",
              "      <td>72.000000</td>\n",
              "      <td>6.000000</td>\n",
              "      <td>11.000000</td>\n",
              "      <td>188.000000</td>\n",
              "      <td>196.000000</td>\n",
              "      <td>1.000000</td>\n",
              "    </tr>\n",
              "    <tr>\n",
              "      <th>75%</th>\n",
              "      <td>539.500000</td>\n",
              "      <td>99.000000</td>\n",
              "      <td>49.000000</td>\n",
              "      <td>96.000000</td>\n",
              "      <td>194.500000</td>\n",
              "      <td>65.000000</td>\n",
              "      <td>10.000000</td>\n",
              "      <td>197.500000</td>\n",
              "      <td>46.000000</td>\n",
              "      <td>23.000000</td>\n",
              "      <td>159.000000</td>\n",
              "      <td>216.000000</td>\n",
              "      <td>584.500000</td>\n",
              "      <td>198.000000</td>\n",
              "      <td>76.000000</td>\n",
              "      <td>9.000000</td>\n",
              "      <td>18.000000</td>\n",
              "      <td>193.000000</td>\n",
              "      <td>201.000000</td>\n",
              "      <td>2.000000</td>\n",
              "    </tr>\n",
              "    <tr>\n",
              "      <th>max</th>\n",
              "      <td>719.000000</td>\n",
              "      <td>119.000000</td>\n",
              "      <td>59.000000</td>\n",
              "      <td>110.000000</td>\n",
              "      <td>333.000000</td>\n",
              "      <td>138.000000</td>\n",
              "      <td>55.000000</td>\n",
              "      <td>265.000000</td>\n",
              "      <td>61.000000</td>\n",
              "      <td>29.000000</td>\n",
              "      <td>188.000000</td>\n",
              "      <td>320.000000</td>\n",
              "      <td>1018.000000</td>\n",
              "      <td>262.000000</td>\n",
              "      <td>135.000000</td>\n",
              "      <td>22.000000</td>\n",
              "      <td>41.000000</td>\n",
              "      <td>204.000000</td>\n",
              "      <td>211.000000</td>\n",
              "      <td>3.000000</td>\n",
              "    </tr>\n",
              "  </tbody>\n",
              "</table>\n",
              "</div>\n",
              "      <button class=\"colab-df-convert\" onclick=\"convertToInteractive('df-27ba01f9-456b-4ff9-a0f0-2520e06e1086')\"\n",
              "              title=\"Convert this dataframe to an interactive table.\"\n",
              "              style=\"display:none;\">\n",
              "        \n",
              "  <svg xmlns=\"http://www.w3.org/2000/svg\" height=\"24px\"viewBox=\"0 0 24 24\"\n",
              "       width=\"24px\">\n",
              "    <path d=\"M0 0h24v24H0V0z\" fill=\"none\"/>\n",
              "    <path d=\"M18.56 5.44l.94 2.06.94-2.06 2.06-.94-2.06-.94-.94-2.06-.94 2.06-2.06.94zm-11 1L8.5 8.5l.94-2.06 2.06-.94-2.06-.94L8.5 2.5l-.94 2.06-2.06.94zm10 10l.94 2.06.94-2.06 2.06-.94-2.06-.94-.94-2.06-.94 2.06-2.06.94z\"/><path d=\"M17.41 7.96l-1.37-1.37c-.4-.4-.92-.59-1.43-.59-.52 0-1.04.2-1.43.59L10.3 9.45l-7.72 7.72c-.78.78-.78 2.05 0 2.83L4 21.41c.39.39.9.59 1.41.59.51 0 1.02-.2 1.41-.59l7.78-7.78 2.81-2.81c.8-.78.8-2.07 0-2.86zM5.41 20L4 18.59l7.72-7.72 1.47 1.35L5.41 20z\"/>\n",
              "  </svg>\n",
              "      </button>\n",
              "      \n",
              "  <style>\n",
              "    .colab-df-container {\n",
              "      display:flex;\n",
              "      flex-wrap:wrap;\n",
              "      gap: 12px;\n",
              "    }\n",
              "\n",
              "    .colab-df-convert {\n",
              "      background-color: #E8F0FE;\n",
              "      border: none;\n",
              "      border-radius: 50%;\n",
              "      cursor: pointer;\n",
              "      display: none;\n",
              "      fill: #1967D2;\n",
              "      height: 32px;\n",
              "      padding: 0 0 0 0;\n",
              "      width: 32px;\n",
              "    }\n",
              "\n",
              "    .colab-df-convert:hover {\n",
              "      background-color: #E2EBFA;\n",
              "      box-shadow: 0px 1px 2px rgba(60, 64, 67, 0.3), 0px 1px 3px 1px rgba(60, 64, 67, 0.15);\n",
              "      fill: #174EA6;\n",
              "    }\n",
              "\n",
              "    [theme=dark] .colab-df-convert {\n",
              "      background-color: #3B4455;\n",
              "      fill: #D2E3FC;\n",
              "    }\n",
              "\n",
              "    [theme=dark] .colab-df-convert:hover {\n",
              "      background-color: #434B5C;\n",
              "      box-shadow: 0px 1px 3px 1px rgba(0, 0, 0, 0.15);\n",
              "      filter: drop-shadow(0px 1px 2px rgba(0, 0, 0, 0.3));\n",
              "      fill: #FFFFFF;\n",
              "    }\n",
              "  </style>\n",
              "\n",
              "      <script>\n",
              "        const buttonEl =\n",
              "          document.querySelector('#df-27ba01f9-456b-4ff9-a0f0-2520e06e1086 button.colab-df-convert');\n",
              "        buttonEl.style.display =\n",
              "          google.colab.kernel.accessAllowed ? 'block' : 'none';\n",
              "\n",
              "        async function convertToInteractive(key) {\n",
              "          const element = document.querySelector('#df-27ba01f9-456b-4ff9-a0f0-2520e06e1086');\n",
              "          const dataTable =\n",
              "            await google.colab.kernel.invokeFunction('convertToInteractive',\n",
              "                                                     [key], {});\n",
              "          if (!dataTable) return;\n",
              "\n",
              "          const docLinkHtml = 'Like what you see? Visit the ' +\n",
              "            '<a target=\"_blank\" href=https://colab.research.google.com/notebooks/data_table.ipynb>data table notebook</a>'\n",
              "            + ' to learn more about interactive tables.';\n",
              "          element.innerHTML = '';\n",
              "          dataTable['output_type'] = 'display_data';\n",
              "          await google.colab.output.renderOutput(dataTable, element);\n",
              "          const docLink = document.createElement('div');\n",
              "          docLink.innerHTML = docLinkHtml;\n",
              "          element.appendChild(docLink);\n",
              "        }\n",
              "      </script>\n",
              "    </div>\n",
              "  </div>\n",
              "  "
            ]
          },
          "metadata": {},
          "execution_count": 6
        }
      ]
    },
    {
      "cell_type": "markdown",
      "source": [
        "we dont need  id column so we are going to drop that"
      ],
      "metadata": {
        "id": "dctinO2lCC-F"
      }
    },
    {
      "cell_type": "code",
      "source": [
        "del df['ID']"
      ],
      "metadata": {
        "id": "ksM7_GVgCJbd"
      },
      "execution_count": null,
      "outputs": []
    },
    {
      "cell_type": "code",
      "source": [
        "df.describe()"
      ],
      "metadata": {
        "colab": {
          "base_uri": "https://localhost:8080/",
          "height": 364
        },
        "id": "46A9vEcTEsEb",
        "outputId": "6152c7fd-11a1-488c-a0a5-d69ac199f414"
      },
      "execution_count": null,
      "outputs": [
        {
          "output_type": "execute_result",
          "data": {
            "text/plain": [
              "             Comp        Circ      D.Circ      Rad.Ra  Pr.Axis.Ra    Max.L.Ra  \\\n",
              "count  719.000000  719.000000  719.000000  719.000000  719.000000  719.000000   \n",
              "mean    93.435327   44.851182   81.723227  168.579972   61.847010    8.625869   \n",
              "std      8.111406    6.150286   15.528208   33.809172    8.259136    4.916908   \n",
              "min     73.000000   33.000000   40.000000  105.000000   47.000000    2.000000   \n",
              "25%     87.000000   40.000000   70.000000  141.000000   57.000000    6.000000   \n",
              "50%     93.000000   44.000000   79.000000  166.000000   61.000000    8.000000   \n",
              "75%     99.000000   49.000000   96.000000  194.500000   65.000000   10.000000   \n",
              "max    119.000000   59.000000  110.000000  333.000000  138.000000   55.000000   \n",
              "\n",
              "          Scat.Ra       Elong  Pr.Axis.Rect  Max.L.Rect  Sc.Var.Maxis  \\\n",
              "count  719.000000  719.000000    719.000000  719.000000    719.000000   \n",
              "mean   168.137691   41.075104     20.531293  148.030598    188.168289   \n",
              "std     32.937591    7.764459      2.560969   14.560092     31.235395   \n",
              "min    112.000000   26.000000     17.000000  118.000000    130.000000   \n",
              "25%    146.000000   33.000000     19.000000  137.000000    167.000000   \n",
              "50%    157.000000   43.000000     20.000000  146.000000    178.000000   \n",
              "75%    197.500000   46.000000     23.000000  159.000000    216.000000   \n",
              "max    265.000000   61.000000     29.000000  188.000000    320.000000   \n",
              "\n",
              "       Sc.Var.maxis      Ra.Gyr  Skew.Maxis  Skew.maxis  Kurt.maxis  \\\n",
              "count    719.000000  719.000000  719.000000  719.000000  719.000000   \n",
              "mean     436.215577  174.726008   72.682893    6.343533   12.394993   \n",
              "std      174.964977   32.149568    7.542055    4.856169    8.742511   \n",
              "min      184.000000  109.000000   59.000000    0.000000    0.000000   \n",
              "25%      317.000000  149.000000   68.000000    2.000000    5.500000   \n",
              "50%      362.000000  174.000000   72.000000    6.000000   11.000000   \n",
              "75%      584.500000  198.000000   76.000000    9.000000   18.000000   \n",
              "max     1018.000000  262.000000  135.000000   22.000000   41.000000   \n",
              "\n",
              "       Kurt.Maxis     Holl.Ra       Class  \n",
              "count  719.000000  719.000000  719.000000  \n",
              "mean   188.798331  195.407510    1.470097  \n",
              "std      6.048522    7.235166    1.126477  \n",
              "min    176.000000  181.000000    0.000000  \n",
              "25%    184.000000  190.000000    0.000000  \n",
              "50%    188.000000  196.000000    1.000000  \n",
              "75%    193.000000  201.000000    2.000000  \n",
              "max    204.000000  211.000000    3.000000  "
            ],
            "text/html": [
              "\n",
              "  <div id=\"df-93934f2f-c187-4de8-a66a-34d7a1f36f53\">\n",
              "    <div class=\"colab-df-container\">\n",
              "      <div>\n",
              "<style scoped>\n",
              "    .dataframe tbody tr th:only-of-type {\n",
              "        vertical-align: middle;\n",
              "    }\n",
              "\n",
              "    .dataframe tbody tr th {\n",
              "        vertical-align: top;\n",
              "    }\n",
              "\n",
              "    .dataframe thead th {\n",
              "        text-align: right;\n",
              "    }\n",
              "</style>\n",
              "<table border=\"1\" class=\"dataframe\">\n",
              "  <thead>\n",
              "    <tr style=\"text-align: right;\">\n",
              "      <th></th>\n",
              "      <th>Comp</th>\n",
              "      <th>Circ</th>\n",
              "      <th>D.Circ</th>\n",
              "      <th>Rad.Ra</th>\n",
              "      <th>Pr.Axis.Ra</th>\n",
              "      <th>Max.L.Ra</th>\n",
              "      <th>Scat.Ra</th>\n",
              "      <th>Elong</th>\n",
              "      <th>Pr.Axis.Rect</th>\n",
              "      <th>Max.L.Rect</th>\n",
              "      <th>Sc.Var.Maxis</th>\n",
              "      <th>Sc.Var.maxis</th>\n",
              "      <th>Ra.Gyr</th>\n",
              "      <th>Skew.Maxis</th>\n",
              "      <th>Skew.maxis</th>\n",
              "      <th>Kurt.maxis</th>\n",
              "      <th>Kurt.Maxis</th>\n",
              "      <th>Holl.Ra</th>\n",
              "      <th>Class</th>\n",
              "    </tr>\n",
              "  </thead>\n",
              "  <tbody>\n",
              "    <tr>\n",
              "      <th>count</th>\n",
              "      <td>719.000000</td>\n",
              "      <td>719.000000</td>\n",
              "      <td>719.000000</td>\n",
              "      <td>719.000000</td>\n",
              "      <td>719.000000</td>\n",
              "      <td>719.000000</td>\n",
              "      <td>719.000000</td>\n",
              "      <td>719.000000</td>\n",
              "      <td>719.000000</td>\n",
              "      <td>719.000000</td>\n",
              "      <td>719.000000</td>\n",
              "      <td>719.000000</td>\n",
              "      <td>719.000000</td>\n",
              "      <td>719.000000</td>\n",
              "      <td>719.000000</td>\n",
              "      <td>719.000000</td>\n",
              "      <td>719.000000</td>\n",
              "      <td>719.000000</td>\n",
              "      <td>719.000000</td>\n",
              "    </tr>\n",
              "    <tr>\n",
              "      <th>mean</th>\n",
              "      <td>93.435327</td>\n",
              "      <td>44.851182</td>\n",
              "      <td>81.723227</td>\n",
              "      <td>168.579972</td>\n",
              "      <td>61.847010</td>\n",
              "      <td>8.625869</td>\n",
              "      <td>168.137691</td>\n",
              "      <td>41.075104</td>\n",
              "      <td>20.531293</td>\n",
              "      <td>148.030598</td>\n",
              "      <td>188.168289</td>\n",
              "      <td>436.215577</td>\n",
              "      <td>174.726008</td>\n",
              "      <td>72.682893</td>\n",
              "      <td>6.343533</td>\n",
              "      <td>12.394993</td>\n",
              "      <td>188.798331</td>\n",
              "      <td>195.407510</td>\n",
              "      <td>1.470097</td>\n",
              "    </tr>\n",
              "    <tr>\n",
              "      <th>std</th>\n",
              "      <td>8.111406</td>\n",
              "      <td>6.150286</td>\n",
              "      <td>15.528208</td>\n",
              "      <td>33.809172</td>\n",
              "      <td>8.259136</td>\n",
              "      <td>4.916908</td>\n",
              "      <td>32.937591</td>\n",
              "      <td>7.764459</td>\n",
              "      <td>2.560969</td>\n",
              "      <td>14.560092</td>\n",
              "      <td>31.235395</td>\n",
              "      <td>174.964977</td>\n",
              "      <td>32.149568</td>\n",
              "      <td>7.542055</td>\n",
              "      <td>4.856169</td>\n",
              "      <td>8.742511</td>\n",
              "      <td>6.048522</td>\n",
              "      <td>7.235166</td>\n",
              "      <td>1.126477</td>\n",
              "    </tr>\n",
              "    <tr>\n",
              "      <th>min</th>\n",
              "      <td>73.000000</td>\n",
              "      <td>33.000000</td>\n",
              "      <td>40.000000</td>\n",
              "      <td>105.000000</td>\n",
              "      <td>47.000000</td>\n",
              "      <td>2.000000</td>\n",
              "      <td>112.000000</td>\n",
              "      <td>26.000000</td>\n",
              "      <td>17.000000</td>\n",
              "      <td>118.000000</td>\n",
              "      <td>130.000000</td>\n",
              "      <td>184.000000</td>\n",
              "      <td>109.000000</td>\n",
              "      <td>59.000000</td>\n",
              "      <td>0.000000</td>\n",
              "      <td>0.000000</td>\n",
              "      <td>176.000000</td>\n",
              "      <td>181.000000</td>\n",
              "      <td>0.000000</td>\n",
              "    </tr>\n",
              "    <tr>\n",
              "      <th>25%</th>\n",
              "      <td>87.000000</td>\n",
              "      <td>40.000000</td>\n",
              "      <td>70.000000</td>\n",
              "      <td>141.000000</td>\n",
              "      <td>57.000000</td>\n",
              "      <td>6.000000</td>\n",
              "      <td>146.000000</td>\n",
              "      <td>33.000000</td>\n",
              "      <td>19.000000</td>\n",
              "      <td>137.000000</td>\n",
              "      <td>167.000000</td>\n",
              "      <td>317.000000</td>\n",
              "      <td>149.000000</td>\n",
              "      <td>68.000000</td>\n",
              "      <td>2.000000</td>\n",
              "      <td>5.500000</td>\n",
              "      <td>184.000000</td>\n",
              "      <td>190.000000</td>\n",
              "      <td>0.000000</td>\n",
              "    </tr>\n",
              "    <tr>\n",
              "      <th>50%</th>\n",
              "      <td>93.000000</td>\n",
              "      <td>44.000000</td>\n",
              "      <td>79.000000</td>\n",
              "      <td>166.000000</td>\n",
              "      <td>61.000000</td>\n",
              "      <td>8.000000</td>\n",
              "      <td>157.000000</td>\n",
              "      <td>43.000000</td>\n",
              "      <td>20.000000</td>\n",
              "      <td>146.000000</td>\n",
              "      <td>178.000000</td>\n",
              "      <td>362.000000</td>\n",
              "      <td>174.000000</td>\n",
              "      <td>72.000000</td>\n",
              "      <td>6.000000</td>\n",
              "      <td>11.000000</td>\n",
              "      <td>188.000000</td>\n",
              "      <td>196.000000</td>\n",
              "      <td>1.000000</td>\n",
              "    </tr>\n",
              "    <tr>\n",
              "      <th>75%</th>\n",
              "      <td>99.000000</td>\n",
              "      <td>49.000000</td>\n",
              "      <td>96.000000</td>\n",
              "      <td>194.500000</td>\n",
              "      <td>65.000000</td>\n",
              "      <td>10.000000</td>\n",
              "      <td>197.500000</td>\n",
              "      <td>46.000000</td>\n",
              "      <td>23.000000</td>\n",
              "      <td>159.000000</td>\n",
              "      <td>216.000000</td>\n",
              "      <td>584.500000</td>\n",
              "      <td>198.000000</td>\n",
              "      <td>76.000000</td>\n",
              "      <td>9.000000</td>\n",
              "      <td>18.000000</td>\n",
              "      <td>193.000000</td>\n",
              "      <td>201.000000</td>\n",
              "      <td>2.000000</td>\n",
              "    </tr>\n",
              "    <tr>\n",
              "      <th>max</th>\n",
              "      <td>119.000000</td>\n",
              "      <td>59.000000</td>\n",
              "      <td>110.000000</td>\n",
              "      <td>333.000000</td>\n",
              "      <td>138.000000</td>\n",
              "      <td>55.000000</td>\n",
              "      <td>265.000000</td>\n",
              "      <td>61.000000</td>\n",
              "      <td>29.000000</td>\n",
              "      <td>188.000000</td>\n",
              "      <td>320.000000</td>\n",
              "      <td>1018.000000</td>\n",
              "      <td>262.000000</td>\n",
              "      <td>135.000000</td>\n",
              "      <td>22.000000</td>\n",
              "      <td>41.000000</td>\n",
              "      <td>204.000000</td>\n",
              "      <td>211.000000</td>\n",
              "      <td>3.000000</td>\n",
              "    </tr>\n",
              "  </tbody>\n",
              "</table>\n",
              "</div>\n",
              "      <button class=\"colab-df-convert\" onclick=\"convertToInteractive('df-93934f2f-c187-4de8-a66a-34d7a1f36f53')\"\n",
              "              title=\"Convert this dataframe to an interactive table.\"\n",
              "              style=\"display:none;\">\n",
              "        \n",
              "  <svg xmlns=\"http://www.w3.org/2000/svg\" height=\"24px\"viewBox=\"0 0 24 24\"\n",
              "       width=\"24px\">\n",
              "    <path d=\"M0 0h24v24H0V0z\" fill=\"none\"/>\n",
              "    <path d=\"M18.56 5.44l.94 2.06.94-2.06 2.06-.94-2.06-.94-.94-2.06-.94 2.06-2.06.94zm-11 1L8.5 8.5l.94-2.06 2.06-.94-2.06-.94L8.5 2.5l-.94 2.06-2.06.94zm10 10l.94 2.06.94-2.06 2.06-.94-2.06-.94-.94-2.06-.94 2.06-2.06.94z\"/><path d=\"M17.41 7.96l-1.37-1.37c-.4-.4-.92-.59-1.43-.59-.52 0-1.04.2-1.43.59L10.3 9.45l-7.72 7.72c-.78.78-.78 2.05 0 2.83L4 21.41c.39.39.9.59 1.41.59.51 0 1.02-.2 1.41-.59l7.78-7.78 2.81-2.81c.8-.78.8-2.07 0-2.86zM5.41 20L4 18.59l7.72-7.72 1.47 1.35L5.41 20z\"/>\n",
              "  </svg>\n",
              "      </button>\n",
              "      \n",
              "  <style>\n",
              "    .colab-df-container {\n",
              "      display:flex;\n",
              "      flex-wrap:wrap;\n",
              "      gap: 12px;\n",
              "    }\n",
              "\n",
              "    .colab-df-convert {\n",
              "      background-color: #E8F0FE;\n",
              "      border: none;\n",
              "      border-radius: 50%;\n",
              "      cursor: pointer;\n",
              "      display: none;\n",
              "      fill: #1967D2;\n",
              "      height: 32px;\n",
              "      padding: 0 0 0 0;\n",
              "      width: 32px;\n",
              "    }\n",
              "\n",
              "    .colab-df-convert:hover {\n",
              "      background-color: #E2EBFA;\n",
              "      box-shadow: 0px 1px 2px rgba(60, 64, 67, 0.3), 0px 1px 3px 1px rgba(60, 64, 67, 0.15);\n",
              "      fill: #174EA6;\n",
              "    }\n",
              "\n",
              "    [theme=dark] .colab-df-convert {\n",
              "      background-color: #3B4455;\n",
              "      fill: #D2E3FC;\n",
              "    }\n",
              "\n",
              "    [theme=dark] .colab-df-convert:hover {\n",
              "      background-color: #434B5C;\n",
              "      box-shadow: 0px 1px 3px 1px rgba(0, 0, 0, 0.15);\n",
              "      filter: drop-shadow(0px 1px 2px rgba(0, 0, 0, 0.3));\n",
              "      fill: #FFFFFF;\n",
              "    }\n",
              "  </style>\n",
              "\n",
              "      <script>\n",
              "        const buttonEl =\n",
              "          document.querySelector('#df-93934f2f-c187-4de8-a66a-34d7a1f36f53 button.colab-df-convert');\n",
              "        buttonEl.style.display =\n",
              "          google.colab.kernel.accessAllowed ? 'block' : 'none';\n",
              "\n",
              "        async function convertToInteractive(key) {\n",
              "          const element = document.querySelector('#df-93934f2f-c187-4de8-a66a-34d7a1f36f53');\n",
              "          const dataTable =\n",
              "            await google.colab.kernel.invokeFunction('convertToInteractive',\n",
              "                                                     [key], {});\n",
              "          if (!dataTable) return;\n",
              "\n",
              "          const docLinkHtml = 'Like what you see? Visit the ' +\n",
              "            '<a target=\"_blank\" href=https://colab.research.google.com/notebooks/data_table.ipynb>data table notebook</a>'\n",
              "            + ' to learn more about interactive tables.';\n",
              "          element.innerHTML = '';\n",
              "          dataTable['output_type'] = 'display_data';\n",
              "          await google.colab.output.renderOutput(dataTable, element);\n",
              "          const docLink = document.createElement('div');\n",
              "          docLink.innerHTML = docLinkHtml;\n",
              "          element.appendChild(docLink);\n",
              "        }\n",
              "      </script>\n",
              "    </div>\n",
              "  </div>\n",
              "  "
            ]
          },
          "metadata": {},
          "execution_count": 8
        }
      ]
    },
    {
      "cell_type": "code",
      "source": [
        "#1.Comp\n",
        "iqr=df['Comp'].quantile(0.75)-df['Comp'].quantile(0.25)\n",
        "ut=df['Comp'].quantile(0.75)+1.5*iqr\n",
        "lt=df['Comp'].quantile(0.25)-1.5*iqr\n",
        "print(\"upper_threshold=\",ut)\n",
        "print(\"lower_threshold=\",lt)\n",
        "if min(df['Comp'])<lt or max(df['Comp'])>ut:\n",
        "  print(\"outlier detected\")\n",
        "  df['Comp']=df['Comp'].clip(lt,ut)\n",
        "else:\n",
        "  print(\"no outlier\")\n",
        "#no outliers\t\n"
      ],
      "metadata": {
        "colab": {
          "base_uri": "https://localhost:8080/"
        },
        "id": "ofhmlKnrE4gq",
        "outputId": "7021931e-df4c-4b4c-8c97-d7b8d4ab17ab"
      },
      "execution_count": null,
      "outputs": [
        {
          "output_type": "stream",
          "name": "stdout",
          "text": [
            "upper_threshold= 117.0\n",
            "lower_threshold= 69.0\n",
            "outlier detected\n"
          ]
        }
      ]
    },
    {
      "cell_type": "code",
      "source": [
        "# 2.Circ\n",
        "iqr=df['Circ'].quantile(0.75)-df['Circ'].quantile(0.25)\n",
        "ut=df['Circ'].quantile(0.75)+1.5*iqr\n",
        "lt=df['Circ'].quantile(0.25)-1.5*iqr\n",
        "print(\"upper_threshold=\",ut)\n",
        "print(\"lower_threshold=\",lt)\n",
        "if min(df['Circ'])<lt or max(df['Circ'])>ut:\n",
        "  print(\"outlier detected\")\n",
        "else:\n",
        "  print(\"no outlier\")\n",
        "#no outliers\t"
      ],
      "metadata": {
        "colab": {
          "base_uri": "https://localhost:8080/"
        },
        "id": "EnvYT0FuF8P_",
        "outputId": "fdfd47d0-bae6-40cb-af71-85c723c6fa9c"
      },
      "execution_count": null,
      "outputs": [
        {
          "output_type": "stream",
          "name": "stdout",
          "text": [
            "upper_threshold= 62.5\n",
            "lower_threshold= 26.5\n",
            "no outlier\n"
          ]
        }
      ]
    },
    {
      "cell_type": "code",
      "source": [
        "#3.D.Circ\n",
        "iqr=df['D.Circ'].quantile(0.75)-df['D.Circ'].quantile(0.25)\n",
        "ut=df['D.Circ'].quantile(0.75)+1.5*iqr\n",
        "lt=df['D.Circ'].quantile(0.25)-1.5*iqr\n",
        "print(\"upper_threshold=\",ut)\n",
        "print(\"lower_threshold=\",lt)\n",
        "if min(df['D.Circ'])<lt or max(df['D.Circ'])>ut:\n",
        "  print(\"outlier detected\")\n",
        "else:\n",
        "  print(\"no outlier\")"
      ],
      "metadata": {
        "colab": {
          "base_uri": "https://localhost:8080/"
        },
        "id": "bWY2mM6dR1tc",
        "outputId": "b54a121b-85f9-4ee2-ab63-79c8a0aacc18"
      },
      "execution_count": null,
      "outputs": [
        {
          "output_type": "stream",
          "name": "stdout",
          "text": [
            "upper_threshold= 135.0\n",
            "lower_threshold= 31.0\n",
            "no outlier\n"
          ]
        }
      ]
    },
    {
      "cell_type": "code",
      "source": [
        "#4.Rad.Ra\n",
        "iqr=df['Rad.Ra'].quantile(0.75)-df['Rad.Ra'].quantile(0.25)\n",
        "ut=df['Rad.Ra'].quantile(0.75)+1.5*iqr\n",
        "lt=df['Rad.Ra'].quantile(0.25)-1.5*iqr\n",
        "print(\"upper_threshold=\",ut)\n",
        "print(\"lower_threshold=\",lt)\n",
        "if min(df['Rad.Ra'])<lt or max(df['Rad.Ra'])>ut:\n",
        "  print(\"outlier detected\")\n",
        "  df['Rad.Ra']=df['Rad.Ra'].clip(ut,lt)\n",
        "else:\n",
        "  print(\"no outlier\")"
      ],
      "metadata": {
        "colab": {
          "base_uri": "https://localhost:8080/"
        },
        "id": "_SBsWal6TP_Z",
        "outputId": "4b511a00-05f1-4839-f3e4-7fa9d4c1a25e"
      },
      "execution_count": null,
      "outputs": [
        {
          "output_type": "stream",
          "name": "stdout",
          "text": [
            "upper_threshold= 274.75\n",
            "lower_threshold= 60.75\n",
            "outlier detected\n"
          ]
        }
      ]
    },
    {
      "cell_type": "code",
      "source": [
        "#5.\tPr.Axis.Ra\t\n",
        "iqr=df['Pr.Axis.Ra'].quantile(0.75)-df['Pr.Axis.Ra'].quantile(0.25)\n",
        "ut=df['Pr.Axis.Ra'].quantile(0.75)+1.5*iqr\n",
        "lt=df['Pr.Axis.Ra'].quantile(0.25)-1.5*iqr\n",
        "print(\"upper_threshold=\",ut)\n",
        "print(\"lower_threshold=\",lt)\n",
        "if min(df['Pr.Axis.Ra'])<lt or max(df['Pr.Axis.Ra'])>ut:\n",
        "  print(\"outlier detected\")\n",
        "  df['Pr.Axis.Ra']=df['Pr.Axis.Ra'].clip(ut,lt)\n",
        "else:\n",
        "  print(\"no outlier\")"
      ],
      "metadata": {
        "colab": {
          "base_uri": "https://localhost:8080/"
        },
        "id": "k9r_JSFZT5pH",
        "outputId": "d6bc5c69-d1ec-428e-b6de-75b9901af43a"
      },
      "execution_count": null,
      "outputs": [
        {
          "output_type": "stream",
          "name": "stdout",
          "text": [
            "upper_threshold= 77.0\n",
            "lower_threshold= 45.0\n",
            "outlier detected\n"
          ]
        }
      ]
    },
    {
      "cell_type": "code",
      "source": [
        "#6.Max.L.Ra\t\n",
        "iqr=df['Max.L.Ra'].quantile(0.75)-df['Max.L.Ra'].quantile(0.25)\n",
        "ut=df['Max.L.Ra'].quantile(0.75)+1.5*iqr\n",
        "lt=df['Max.L.Ra'].quantile(0.25)-1.5*iqr\n",
        "print(\"upper_threshold=\",ut)\n",
        "print(\"lower_threshold=\",lt)\n",
        "if min(df['Max.L.Ra'])<lt or max(df['Max.L.Ra'])>ut:\n",
        "  print(\"outlier detected\")\n",
        "  df['Max.L.Ra']=df['Max.L.Ra'].clip(ut,lt)\n",
        "else:\n",
        "  print(\"no outlier\")"
      ],
      "metadata": {
        "colab": {
          "base_uri": "https://localhost:8080/"
        },
        "id": "W5Wju2oyUQJH",
        "outputId": "66f521a9-c51d-4524-d6b6-da6eb3403653"
      },
      "execution_count": null,
      "outputs": [
        {
          "output_type": "stream",
          "name": "stdout",
          "text": [
            "upper_threshold= 16.0\n",
            "lower_threshold= 0.0\n",
            "outlier detected\n"
          ]
        }
      ]
    },
    {
      "cell_type": "code",
      "source": [
        "#7.Scat.Ra\n",
        "iqr=df['Scat.Ra'].quantile(0.75)-df['Scat.Ra'].quantile(0.25)\n",
        "ut=df['Scat.Ra'].quantile(0.75)+1.5*iqr\n",
        "lt=df['Scat.Ra'].quantile(0.25)-1.5*iqr\n",
        "print(\"upper_threshold=\",ut)\n",
        "print(\"lower_threshold=\",lt)\n",
        "if min(df['Scat.Ra'])<lt or max(df['Scat.Ra'])>ut:\n",
        "  print(\"outlier detected\")\n",
        "  df['Scat.Ra']=df['Scat.Ra'].clip(ut,lt)\n",
        "else:\n",
        "  print(\"no outlier\")"
      ],
      "metadata": {
        "colab": {
          "base_uri": "https://localhost:8080/"
        },
        "id": "_NrXAVO-UszL",
        "outputId": "32358006-deef-4741-b201-8b519a5a5987"
      },
      "execution_count": null,
      "outputs": [
        {
          "output_type": "stream",
          "name": "stdout",
          "text": [
            "upper_threshold= 274.75\n",
            "lower_threshold= 68.75\n",
            "no outlier\n"
          ]
        }
      ]
    },
    {
      "cell_type": "code",
      "source": [
        "#8.Elong\n",
        "iqr=df['Elong'].quantile(0.75)-df['Elong'].quantile(0.25)\n",
        "ut=df['Elong'].quantile(0.75)+1.5*iqr\n",
        "lt=df['Elong'].quantile(0.25)-1.5*iqr\n",
        "print(\"upper_threshold=\",ut)\n",
        "print(\"lower_threshold=\",lt)\n",
        "if min(df['Elong'])<lt or max(df['Elong'])>ut:\n",
        "  print(\"outlier detected\")\n",
        "  df['Elong']=df['Elong'].clip(ut,lt)\n",
        "else:\n",
        "  print(\"no outlier\")"
      ],
      "metadata": {
        "colab": {
          "base_uri": "https://localhost:8080/"
        },
        "id": "o4-CRUIRVExf",
        "outputId": "eccbc439-067b-4416-bc1b-d55c98313d4c"
      },
      "execution_count": null,
      "outputs": [
        {
          "output_type": "stream",
          "name": "stdout",
          "text": [
            "upper_threshold= 65.5\n",
            "lower_threshold= 13.5\n",
            "no outlier\n"
          ]
        }
      ]
    },
    {
      "cell_type": "code",
      "source": [
        "#9.Pr.Axis.Rect\n",
        "iqr=df['Pr.Axis.Rect'].quantile(0.75)-df['Pr.Axis.Rect'].quantile(0.25)\n",
        "ut=df['Pr.Axis.Rect'].quantile(0.75)+1.5*iqr\n",
        "lt=df['Pr.Axis.Rect'].quantile(0.25)-1.5*iqr\n",
        "print(\"upper_threshold=\",ut)\n",
        "print(\"lower_threshold=\",lt)\n",
        "if min(df['Pr.Axis.Rect'])<lt or max(df['Pr.Axis.Rect'])>ut:\n",
        "  print(\"outlier detected\")\n",
        "  df['Pr.Axis.Rect']=df['Pr.Axis.Rect'].clip(ut,lt)\n",
        "else:\n",
        "  print(\"no outlier\")"
      ],
      "metadata": {
        "colab": {
          "base_uri": "https://localhost:8080/"
        },
        "id": "CHEl50jcVh7n",
        "outputId": "16c52828-67fc-43d6-ddc0-23244758544b"
      },
      "execution_count": null,
      "outputs": [
        {
          "output_type": "stream",
          "name": "stdout",
          "text": [
            "upper_threshold= 29.0\n",
            "lower_threshold= 13.0\n",
            "no outlier\n"
          ]
        }
      ]
    },
    {
      "cell_type": "code",
      "source": [
        "#10.Max.L.Rect\n",
        "iqr=df['Max.L.Rect'].quantile(0.75)-df['Max.L.Rect'].quantile(0.25)\n",
        "ut=df['Max.L.Rect'].quantile(0.75)+1.5*iqr\n",
        "lt=df['Max.L.Rect'].quantile(0.25)-1.5*iqr\n",
        "print(\"upper_threshold=\",ut)\n",
        "print(\"lower_threshold=\",lt)\n",
        "if min(df['Max.L.Rect'])<lt or max(df['Max.L.Rect'])>ut:\n",
        "  print(\"outlier detected\")\n",
        "  df['Max.L.Rect']=df['Max.L.Rect'].clip(ut,lt)\n",
        "else:\n",
        "  print(\"no outlier\")"
      ],
      "metadata": {
        "colab": {
          "base_uri": "https://localhost:8080/"
        },
        "id": "zo3H1xTlVypX",
        "outputId": "1c8df569-a63e-4d1f-d23f-5e6abb6784c9"
      },
      "execution_count": null,
      "outputs": [
        {
          "output_type": "stream",
          "name": "stdout",
          "text": [
            "upper_threshold= 192.0\n",
            "lower_threshold= 104.0\n",
            "no outlier\n"
          ]
        }
      ]
    },
    {
      "cell_type": "code",
      "source": [
        "#11.Sc.Var.Maxis\n",
        "iqr=df['Sc.Var.Maxis'].quantile(0.75)-df['Sc.Var.Maxis'].quantile(0.25)\n",
        "ut=df['Sc.Var.Maxis'].quantile(0.75)+1.5*iqr\n",
        "lt=df['Sc.Var.Maxis'].quantile(0.25)-1.5*iqr\n",
        "print(\"upper_threshold=\",ut)\n",
        "print(\"lower_threshold=\",lt)\n",
        "if min(df['Sc.Var.Maxis'])<lt or max(df['Sc.Var.Maxis'])>ut:\n",
        "  print(\"outlier detected\")\n",
        "  df['Sc.Var.Maxis']=df['Sc.Var.Maxis'].clip(ut,lt)\n",
        "else:\n",
        "  print(\"no outlier\")"
      ],
      "metadata": {
        "colab": {
          "base_uri": "https://localhost:8080/"
        },
        "id": "OZ9_0PcJWLLb",
        "outputId": "cb4b8c59-ff1e-4c0f-fb05-7a7965da38a5"
      },
      "execution_count": null,
      "outputs": [
        {
          "output_type": "stream",
          "name": "stdout",
          "text": [
            "upper_threshold= 289.5\n",
            "lower_threshold= 93.5\n",
            "outlier detected\n"
          ]
        }
      ]
    },
    {
      "cell_type": "code",
      "source": [
        "#12.Sc.Var.maxis\t\n",
        "iqr=df['Sc.Var.maxis'].quantile(0.75)-df['Sc.Var.maxis'].quantile(0.25)\n",
        "ut=df['Sc.Var.maxis'].quantile(0.75)+1.5*iqr\n",
        "lt=df['Sc.Var.maxis'].quantile(0.25)-1.5*iqr\n",
        "print(\"upper_threshold=\",ut)\n",
        "print(\"lower_threshold=\",lt)\n",
        "if min(df['Sc.Var.maxis'])<lt or max(df['Sc.Var.maxis'])>ut:\n",
        "  print(\"outlier detected\")\n",
        "  df['Sc.Var.maxis']=df['Sc.Var.maxis'].clip(ut,lt)\n",
        "else:\n",
        "  print(\"no outlier\")"
      ],
      "metadata": {
        "colab": {
          "base_uri": "https://localhost:8080/"
        },
        "id": "kwr8WsF2WhMo",
        "outputId": "3b359898-026d-4779-fe94-373ea5e21669"
      },
      "execution_count": null,
      "outputs": [
        {
          "output_type": "stream",
          "name": "stdout",
          "text": [
            "upper_threshold= 985.75\n",
            "lower_threshold= -84.25\n",
            "outlier detected\n"
          ]
        }
      ]
    },
    {
      "cell_type": "code",
      "source": [
        "#13.Ra.Gyr\n",
        "iqr=df['Ra.Gyr'].quantile(0.75)-df['Ra.Gyr'].quantile(0.25)\n",
        "ut=df['Ra.Gyr'].quantile(0.75)+1.5*iqr\n",
        "lt=df['Ra.Gyr'].quantile(0.25)-1.5*iqr\n",
        "print(\"upper_threshold=\",ut)\n",
        "print(\"lower_threshold=\",lt)\n",
        "if min(df['Ra.Gyr'])<lt or max(df['Ra.Gyr'])>ut:\n",
        "  print(\"outlier detected\")\n",
        "  df['Ra.Gyr']=df['Ra.Gyr'].clip(ut,lt)\n",
        "else:\n",
        "  print(\"no outlier\")"
      ],
      "metadata": {
        "colab": {
          "base_uri": "https://localhost:8080/"
        },
        "id": "Xq0lF7-fWLPG",
        "outputId": "7363b411-698c-4602-c17c-8d7a4d19b774"
      },
      "execution_count": null,
      "outputs": [
        {
          "output_type": "stream",
          "name": "stdout",
          "text": [
            "upper_threshold= 271.5\n",
            "lower_threshold= 75.5\n",
            "no outlier\n"
          ]
        }
      ]
    },
    {
      "cell_type": "code",
      "source": [
        "#14.Skew.Maxis\n",
        "iqr=df['Skew.Maxis'].quantile(0.75)-df['Skew.Maxis'].quantile(0.25)\n",
        "ut=df['Skew.Maxis'].quantile(0.75)+1.5*iqr\n",
        "lt=df['Skew.Maxis'].quantile(0.25)-1.5*iqr\n",
        "print(\"upper_threshold=\",ut)\n",
        "print(\"lower_threshold=\",lt)\n",
        "if min(df['Skew.Maxis'])<lt or max(df['Skew.Maxis'])>ut:\n",
        "  print(\"outlier detected\")\n",
        "  df['Skew.Maxis']=df['Skew.Maxis'].clip(ut,lt)\n",
        "else:\n",
        "  print(\"no outlier\")"
      ],
      "metadata": {
        "colab": {
          "base_uri": "https://localhost:8080/"
        },
        "id": "Xuu-Y2s1XTIy",
        "outputId": "08ef3d09-1a8c-49c9-9092-23e2d0e81589"
      },
      "execution_count": null,
      "outputs": [
        {
          "output_type": "stream",
          "name": "stdout",
          "text": [
            "upper_threshold= 88.0\n",
            "lower_threshold= 56.0\n",
            "outlier detected\n"
          ]
        }
      ]
    },
    {
      "cell_type": "code",
      "source": [
        "#15.Skew.maxis\n",
        "iqr=df['Skew.maxis'].quantile(0.75)-df['Skew.maxis'].quantile(0.25)\n",
        "ut=df['Skew.maxis'].quantile(0.75)+1.5*iqr\n",
        "lt=df['Skew.maxis'].quantile(0.25)-1.5*iqr\n",
        "print(\"upper_threshold=\",ut)\n",
        "print(\"lower_threshold=\",lt)\n",
        "if min(df['Skew.maxis'])<lt or max(df['Skew.maxis'])>ut:\n",
        "  print(\"outlier detected\")\n",
        "  df['Skew.maxis']=df['Skew.maxis'].clip(ut,lt)\n",
        "else:\n",
        "  print(\"no outlier\")"
      ],
      "metadata": {
        "colab": {
          "base_uri": "https://localhost:8080/"
        },
        "id": "gB0rV1qmXmhM",
        "outputId": "44092c1e-8e75-4b22-a83e-ba579b1062bb"
      },
      "execution_count": null,
      "outputs": [
        {
          "output_type": "stream",
          "name": "stdout",
          "text": [
            "upper_threshold= 19.5\n",
            "lower_threshold= -8.5\n",
            "outlier detected\n"
          ]
        }
      ]
    },
    {
      "cell_type": "code",
      "source": [
        "#16.Kurt.maxis\n",
        "iqr=df['Kurt.maxis'].quantile(0.75)-df['Kurt.maxis'].quantile(0.25)\n",
        "ut=df['Kurt.maxis'].quantile(0.75)+1.5*iqr\n",
        "lt=df['Kurt.maxis'].quantile(0.25)-1.5*iqr\n",
        "print(\"upper_threshold=\",ut)\n",
        "print(\"lower_threshold=\",lt)\n",
        "if min(df['Kurt.maxis'])<lt or max(df['Kurt.maxis'])>ut:\n",
        "  print(\"outlier detected\")\n",
        "  df['Kurt.maxis']=df['Kurt.maxis'].clip(ut,lt)\n",
        "else:\n",
        "  print(\"no outlier\")"
      ],
      "metadata": {
        "colab": {
          "base_uri": "https://localhost:8080/"
        },
        "id": "jv_RLvs1XmlN",
        "outputId": "5c61537c-71a9-4318-8a6c-f222fd502be0"
      },
      "execution_count": null,
      "outputs": [
        {
          "output_type": "stream",
          "name": "stdout",
          "text": [
            "upper_threshold= 36.75\n",
            "lower_threshold= -13.25\n",
            "outlier detected\n"
          ]
        }
      ]
    },
    {
      "cell_type": "code",
      "source": [
        "#17.Kurt.Maxis\n",
        "iqr=df['Kurt.Maxis'].quantile(0.75)-df['Kurt.Maxis'].quantile(0.25)\n",
        "ut=df['Kurt.Maxis'].quantile(0.75)+1.5*iqr\n",
        "lt=df['Kurt.Maxis'].quantile(0.25)-1.5*iqr\n",
        "print(\"upper_threshold=\",ut)\n",
        "print(\"lower_threshold=\",lt)\n",
        "if min(df['Kurt.Maxis'])<lt or max(df['Kurt.Maxis'])>ut:\n",
        "  print(\"outlier detected\")\n",
        "  df['Kurt.Maxis']=df['Kurt.Maxis'].clip(ut,lt)\n",
        "else:\n",
        "  print(\"no outlier\")"
      ],
      "metadata": {
        "colab": {
          "base_uri": "https://localhost:8080/"
        },
        "id": "8ZgLi0B6Xmpy",
        "outputId": "f7e9f9b6-6a36-4f59-8b25-5c911abe790e"
      },
      "execution_count": null,
      "outputs": [
        {
          "output_type": "stream",
          "name": "stdout",
          "text": [
            "upper_threshold= 206.5\n",
            "lower_threshold= 170.5\n",
            "no outlier\n"
          ]
        }
      ]
    },
    {
      "cell_type": "code",
      "source": [
        "#18.Holl.Ra\n",
        "iqr=df['Holl.Ra'].quantile(0.75)-df['Holl.Ra'].quantile(0.25)\n",
        "ut=df['Holl.Ra'].quantile(0.75)+1.5*iqr\n",
        "lt=df['Holl.Ra'].quantile(0.25)-1.5*iqr\n",
        "print(\"upper_threshold=\",ut)\n",
        "print(\"lower_threshold=\",lt)\n",
        "if min(df['Holl.Ra'])<lt or max(df['Holl.Ra'])>ut:\n",
        "  print(\"outlier detected\")\n",
        "  df['Holl.Ra']=df['Holl.Ra'].clip(ut,lt)\n",
        "else:\n",
        "  print(\"no outlier\")"
      ],
      "metadata": {
        "colab": {
          "base_uri": "https://localhost:8080/"
        },
        "id": "Be3IQOQtYkQj",
        "outputId": "e55b3562-7703-4129-9f4c-f83b7a749507"
      },
      "execution_count": null,
      "outputs": [
        {
          "output_type": "stream",
          "name": "stdout",
          "text": [
            "upper_threshold= 217.5\n",
            "lower_threshold= 173.5\n",
            "no outlier\n"
          ]
        }
      ]
    },
    {
      "cell_type": "markdown",
      "source": [
        "WE CHECKED OUTLIER FOR ALL FEATURE AND CLIPPED THE OUTLIER DETECT FEATURE ALSO"
      ],
      "metadata": {
        "id": "O9v_m4meY34_"
      }
    },
    {
      "cell_type": "markdown",
      "source": [
        "**EDA**"
      ],
      "metadata": {
        "id": "HfpLtTyIZBd5"
      }
    },
    {
      "cell_type": "code",
      "source": [
        "df.columns"
      ],
      "metadata": {
        "colab": {
          "base_uri": "https://localhost:8080/"
        },
        "id": "pUoyGgFcZMsc",
        "outputId": "ebbe73cd-e44d-4fdd-8d13-7ccf45aaa30e"
      },
      "execution_count": null,
      "outputs": [
        {
          "output_type": "execute_result",
          "data": {
            "text/plain": [
              "Index(['Comp', 'Circ', 'D.Circ', 'Rad.Ra', 'Pr.Axis.Ra', 'Max.L.Ra', 'Scat.Ra',\n",
              "       'Elong', 'Pr.Axis.Rect', 'Max.L.Rect', 'Sc.Var.Maxis', 'Sc.Var.maxis',\n",
              "       'Ra.Gyr', 'Skew.Maxis', 'Skew.maxis', 'Kurt.maxis', 'Kurt.Maxis',\n",
              "       'Holl.Ra', 'Class'],\n",
              "      dtype='object')"
            ]
          },
          "metadata": {},
          "execution_count": 27
        }
      ]
    },
    {
      "cell_type": "markdown",
      "source": [
        "**finding unique values**"
      ],
      "metadata": {
        "id": "EPuZSL5Wf9RH"
      }
    },
    {
      "cell_type": "code",
      "source": [
        "df['Class'].unique()"
      ],
      "metadata": {
        "colab": {
          "base_uri": "https://localhost:8080/"
        },
        "id": "747zLd80f8WE",
        "outputId": "697dec67-92aa-4ee4-dc28-46b96947ab91"
      },
      "execution_count": null,
      "outputs": [
        {
          "output_type": "execute_result",
          "data": {
            "text/plain": [
              "array([0, 3, 1, 2])"
            ]
          },
          "metadata": {},
          "execution_count": 28
        }
      ]
    },
    {
      "cell_type": "code",
      "source": [
        "df['Class'].value_counts()"
      ],
      "metadata": {
        "colab": {
          "base_uri": "https://localhost:8080/"
        },
        "id": "Q76ozNtogG9r",
        "outputId": "822efb6c-1ca2-47f0-abd3-b74ab8fd7605"
      },
      "execution_count": null,
      "outputs": [
        {
          "output_type": "execute_result",
          "data": {
            "text/plain": [
              "0    189\n",
              "1    180\n",
              "3    177\n",
              "2    173\n",
              "Name: Class, dtype: int64"
            ]
          },
          "metadata": {},
          "execution_count": 29
        }
      ]
    },
    {
      "cell_type": "markdown",
      "source": [
        "**Exploratory data analysis**"
      ],
      "metadata": {
        "id": "OZTz_rAFhrX9"
      }
    },
    {
      "cell_type": "code",
      "source": [
        "import seaborn as sns\n",
        "import matplotlib.pyplot as plt\n",
        "sns.countplot(x = df['Class'],\n",
        "              order = df['Class'].value_counts(ascending = True).index)\n",
        "plt.xlabel('class, target')\n",
        "plt.title('Distribution of class, target')\n",
        "plt.show()"
      ],
      "metadata": {
        "colab": {
          "base_uri": "https://localhost:8080/",
          "height": 472
        },
        "id": "hR3UrHixgHDQ",
        "outputId": "238c851d-f790-4370-cf89-60afae3ca505"
      },
      "execution_count": null,
      "outputs": [
        {
          "output_type": "display_data",
          "data": {
            "text/plain": [
              "<Figure size 640x480 with 1 Axes>"
            ],
            "image/png": "[encoded data removed]"
          },
          "metadata": {}
        }
      ]
    },
    {
      "cell_type": "markdown",
      "source": [
        "# **splitting using train,test,split**"
      ],
      "metadata": {
        "id": "NGkz17VJkQnH"
      }
    },
    {
      "cell_type": "code",
      "source": [
        "from sklearn.metrics import confusion_matrix\n",
        "from sklearn.model_selection import train_test_split\n",
        "x=df[['Comp', 'Circ', 'D.Circ', 'Rad.Ra', 'Pr.Axis.Ra', 'Max.L.Ra', 'Scat.Ra',\n",
        "       'Elong', 'Pr.Axis.Rect', 'Max.L.Rect', 'Sc.Var.Maxis', 'Sc.Var.maxis',\n",
        "       'Ra.Gyr', 'Skew.Maxis', 'Skew.maxis', 'Kurt.maxis', 'Kurt.Maxis',\n",
        "       'Holl.Ra', 'Class']].values\n",
        "y=df['Class'].values\n",
        "X_train, X_test, y_train, y_test = train_test_split(x, y,test_size=0.2,random_state = 0)"
      ],
      "metadata": {
        "id": "SmnQiYc3f8ak"
      },
      "execution_count": null,
      "outputs": []
    },
    {
      "cell_type": "code",
      "source": [
        "print(\"x train lenght =\",len(X_train))\n",
        "print(\"x test lenght =\",len(X_test))\n",
        "print(\"y train lenght =\",len(y_train))\n",
        "print(\"y train lenght =\",len(y_test))"
      ],
      "metadata": {
        "colab": {
          "base_uri": "https://localhost:8080/"
        },
        "id": "rCUuidc-kXfI",
        "outputId": "1a59f1ed-6d9f-4b2b-e8f6-32ada6f49833"
      },
      "execution_count": null,
      "outputs": [
        {
          "output_type": "stream",
          "name": "stdout",
          "text": [
            "x train lenght = 575\n",
            "x test lenght = 144\n",
            "y train lenght = 575\n",
            "y train lenght = 144\n"
          ]
        }
      ]
    },
    {
      "cell_type": "code",
      "source": [
        "X_train"
      ],
      "metadata": {
        "colab": {
          "base_uri": "https://localhost:8080/"
        },
        "id": "EBbqzgG8mwAU",
        "outputId": "739a966f-e40a-46f9-8993-3d58d66bf5f0"
      },
      "execution_count": null,
      "outputs": [
        {
          "output_type": "execute_result",
          "data": {
            "text/plain": [
              "array([[100.,  50.,  98., ..., 189., 189.,   0.],\n",
              "       [ 86.,  45.,  70., ..., 180., 183.,   0.],\n",
              "       [ 87.,  36.,  53., ..., 180., 183.,   3.],\n",
              "       ...,\n",
              "       [ 94.,  35.,  66., ..., 196., 201.,   3.],\n",
              "       [103.,  55., 103., ..., 188., 196.,   1.],\n",
              "       [ 87.,  44.,  65., ..., 179., 182.,   0.]])"
            ]
          },
          "metadata": {},
          "execution_count": 33
        }
      ]
    },
    {
      "cell_type": "code",
      "source": [
        "X_test"
      ],
      "metadata": {
        "colab": {
          "base_uri": "https://localhost:8080/"
        },
        "id": "DO1uAsb2m1LF",
        "outputId": "4b29505d-8e4d-4f1d-bd96-25e570fed5b4"
      },
      "execution_count": null,
      "outputs": [
        {
          "output_type": "execute_result",
          "data": {
            "text/plain": [
              "array([[ 88.,  34.,  58., ..., 199., 206.,   3.],\n",
              "       [104.,  53., 108., ..., 188., 201.,   2.],\n",
              "       [ 89.,  44.,  70., ..., 186., 187.,   3.],\n",
              "       ...,\n",
              "       [ 85.,  41.,  66., ..., 184., 191.,   0.],\n",
              "       [ 89.,  46.,  77., ..., 183., 191.,   3.],\n",
              "       [106.,  49.,  96., ..., 202., 209.,   1.]])"
            ]
          },
          "metadata": {},
          "execution_count": 34
        }
      ]
    },
    {
      "cell_type": "code",
      "source": [
        "y_train"
      ],
      "metadata": {
        "colab": {
          "base_uri": "https://localhost:8080/"
        },
        "id": "WRHfuH-Dm41M",
        "outputId": "7ff28cc1-532e-4891-8af1-b9cd2641d989"
      },
      "execution_count": null,
      "outputs": [
        {
          "output_type": "execute_result",
          "data": {
            "text/plain": [
              "array([0, 0, 3, 0, 0, 1, 1, 2, 0, 1, 1, 2, 2, 2, 0, 3, 1, 0, 0, 1, 1, 0,\n",
              "       1, 0, 2, 0, 3, 1, 0, 0, 1, 3, 2, 1, 0, 1, 0, 0, 2, 1, 0, 3, 2, 3,\n",
              "       3, 1, 2, 1, 1, 3, 1, 0, 0, 1, 2, 1, 2, 0, 1, 2, 0, 3, 3, 2, 0, 0,\n",
              "       2, 0, 3, 1, 1, 3, 3, 2, 0, 2, 0, 2, 3, 3, 0, 1, 1, 2, 3, 1, 2, 3,\n",
              "       1, 2, 0, 3, 3, 3, 2, 1, 1, 1, 2, 0, 2, 3, 2, 1, 1, 1, 0, 0, 0, 0,\n",
              "       3, 3, 0, 3, 2, 2, 3, 0, 2, 0, 0, 1, 0, 3, 3, 1, 3, 3, 0, 1, 2, 1,\n",
              "       0, 3, 2, 0, 3, 0, 2, 0, 1, 1, 1, 2, 3, 2, 0, 0, 1, 3, 0, 0, 3, 1,\n",
              "       0, 2, 1, 0, 0, 2, 1, 1, 2, 2, 2, 1, 0, 0, 1, 0, 0, 2, 2, 2, 3, 0,\n",
              "       3, 3, 2, 2, 1, 0, 3, 0, 1, 1, 0, 3, 1, 3, 3, 1, 0, 2, 2, 0, 2, 2,\n",
              "       2, 0, 0, 3, 1, 3, 1, 2, 0, 3, 3, 0, 3, 3, 3, 1, 0, 1, 3, 2, 0, 0,\n",
              "       2, 2, 3, 1, 0, 2, 1, 1, 3, 2, 2, 3, 2, 2, 0, 1, 1, 3, 3, 3, 3, 1,\n",
              "       1, 3, 0, 1, 0, 3, 1, 3, 3, 3, 1, 2, 3, 1, 3, 0, 2, 3, 1, 2, 0, 3,\n",
              "       0, 1, 3, 3, 3, 1, 3, 3, 3, 2, 1, 2, 1, 3, 3, 1, 1, 1, 0, 1, 3, 3,\n",
              "       1, 2, 2, 0, 1, 0, 0, 0, 2, 2, 0, 3, 3, 0, 1, 3, 1, 2, 3, 1, 1, 1,\n",
              "       0, 1, 2, 2, 1, 1, 2, 3, 2, 2, 3, 2, 0, 0, 1, 2, 0, 0, 3, 0, 3, 3,\n",
              "       0, 1, 3, 2, 0, 1, 3, 1, 1, 2, 1, 2, 1, 0, 3, 3, 1, 2, 0, 2, 2, 2,\n",
              "       1, 3, 0, 2, 1, 3, 1, 0, 3, 1, 3, 2, 3, 2, 3, 3, 0, 2, 0, 1, 0, 3,\n",
              "       2, 0, 0, 1, 2, 3, 1, 1, 1, 2, 3, 1, 2, 3, 1, 2, 1, 0, 2, 2, 3, 2,\n",
              "       3, 0, 1, 0, 1, 0, 3, 0, 2, 2, 1, 1, 2, 0, 2, 1, 2, 3, 2, 3, 3, 0,\n",
              "       1, 2, 2, 2, 1, 0, 0, 0, 2, 1, 0, 0, 1, 2, 3, 0, 3, 2, 0, 3, 1, 2,\n",
              "       3, 0, 3, 1, 2, 3, 1, 0, 1, 0, 2, 3, 0, 2, 3, 0, 1, 2, 3, 3, 2, 0,\n",
              "       2, 3, 2, 3, 2, 0, 0, 3, 2, 3, 2, 1, 2, 0, 0, 1, 0, 0, 3, 1, 1, 3,\n",
              "       2, 1, 0, 2, 2, 2, 0, 1, 1, 1, 3, 3, 2, 2, 0, 2, 2, 3, 1, 1, 0, 2,\n",
              "       0, 0, 2, 2, 0, 0, 2, 1, 1, 0, 3, 3, 0, 0, 3, 0, 0, 0, 2, 3, 2, 1,\n",
              "       1, 1, 2, 0, 0, 2, 2, 1, 2, 0, 3, 3, 1, 3, 1, 2, 0, 0, 3, 1, 2, 1,\n",
              "       2, 3, 0, 0, 3, 1, 0, 1, 2, 0, 2, 2, 1, 1, 1, 0, 1, 2, 1, 0, 3, 1,\n",
              "       3, 1, 0])"
            ]
          },
          "metadata": {},
          "execution_count": 35
        }
      ]
    },
    {
      "cell_type": "code",
      "source": [
        "y_test"
      ],
      "metadata": {
        "colab": {
          "base_uri": "https://localhost:8080/"
        },
        "id": "KMkhXrEPm8OI",
        "outputId": "b7d6508a-b49d-41e5-a82e-722f849ef834"
      },
      "execution_count": null,
      "outputs": [
        {
          "output_type": "execute_result",
          "data": {
            "text/plain": [
              "array([3, 2, 3, 3, 0, 1, 0, 0, 3, 3, 0, 0, 3, 3, 0, 1, 2, 1, 3, 1, 0, 3,\n",
              "       0, 3, 0, 1, 2, 2, 2, 1, 3, 3, 2, 3, 3, 1, 3, 1, 2, 3, 0, 2, 2, 0,\n",
              "       1, 2, 2, 1, 1, 3, 3, 2, 0, 3, 0, 0, 1, 0, 0, 2, 1, 0, 3, 1, 0, 2,\n",
              "       0, 1, 3, 3, 3, 2, 3, 1, 0, 0, 3, 0, 2, 0, 3, 1, 3, 2, 3, 1, 0, 3,\n",
              "       1, 3, 2, 0, 0, 0, 0, 2, 1, 2, 3, 2, 2, 0, 2, 2, 1, 1, 0, 1, 3, 0,\n",
              "       1, 3, 3, 2, 0, 1, 0, 0, 3, 1, 2, 0, 1, 3, 2, 3, 2, 1, 2, 3, 2, 0,\n",
              "       2, 3, 1, 2, 0, 0, 1, 3, 1, 0, 3, 1])"
            ]
          },
          "metadata": {},
          "execution_count": 36
        }
      ]
    },
    {
      "cell_type": "markdown",
      "source": [
        "splitted the data into x_train ,x_test ans the feature of y_train and y_test using train_test_split package"
      ],
      "metadata": {
        "id": "712jadYsmJA9"
      }
    },
    {
      "cell_type": "markdown",
      "source": [
        "# SCALING"
      ],
      "metadata": {
        "id": "hhkglgkumaOM"
      }
    },
    {
      "cell_type": "code",
      "source": [
        "from sklearn.preprocessing import StandardScaler\n",
        "scaler = StandardScaler()\n",
        "X_train = scaler.fit_transform(X_train)\n",
        "X_test = scaler.transform(X_test)\n",
        "X_train "
      ],
      "metadata": {
        "colab": {
          "base_uri": "https://localhost:8080/"
        },
        "id": "GUqk9tCmmZdt",
        "outputId": "90e31059-42d9-4ee8-e231-0afd751aff44"
      },
      "execution_count": null,
      "outputs": [
        {
          "output_type": "execute_result",
          "data": {
            "text/plain": [
              "array([[ 0.79931258,  0.82734328,  1.04751226, ...,  0.05252313,\n",
              "        -0.88010311, -1.30721299],\n",
              "       [-0.91426032,  0.01163274, -0.78523577, ..., -1.45751692,\n",
              "        -1.72026794, -1.30721299],\n",
              "       [-0.79186226, -1.45664623, -1.89797565, ..., -1.45751692,\n",
              "        -1.72026794,  1.38364907],\n",
              "       ...,\n",
              "       [ 0.06492419, -1.61978834, -1.04705692, ...,  1.22699873,\n",
              "         0.80022657,  1.38364907],\n",
              "       [ 1.16650677,  1.64305382,  1.3747887 , ..., -0.1152591 ,\n",
              "         0.1000892 , -0.41025897],\n",
              "       [-0.79186226, -0.15150937, -1.11251221, ..., -1.62529914,\n",
              "        -1.86029542, -1.30721299]])"
            ]
          },
          "metadata": {},
          "execution_count": 38
        }
      ]
    },
    {
      "cell_type": "code",
      "source": [
        "X_test"
      ],
      "metadata": {
        "colab": {
          "base_uri": "https://localhost:8080/"
        },
        "id": "WoPmv5gFkXlw",
        "outputId": "37d2db69-3d79-43d6-94c4-a76b9b21c4e6"
      },
      "execution_count": null,
      "outputs": [
        {
          "output_type": "execute_result",
          "data": {
            "text/plain": [
              "array([[-0.66946419, -1.78293044, -1.57069922, ...,  1.73034541,\n",
              "         1.50036393,  1.38364907],\n",
              "       [ 1.28890483,  1.3167696 ,  1.70206513, ..., -0.1152591 ,\n",
              "         0.80022657,  0.48669505],\n",
              "       [-0.54706613, -0.15150937, -0.78523577, ..., -0.45082355,\n",
              "        -1.16015805,  1.38364907],\n",
              "       ...,\n",
              "       [-1.03665839, -0.64093569, -1.04705692, ..., -0.78638801,\n",
              "        -0.60004816, -1.30721299],\n",
              "       [-0.54706613,  0.17477485, -0.32704876, ..., -0.95417023,\n",
              "        -0.60004816,  1.38364907],\n",
              "       [ 1.53370096,  0.66420117,  0.91660169, ...,  2.23369209,\n",
              "         1.92044635, -0.41025897]])"
            ]
          },
          "metadata": {},
          "execution_count": 39
        }
      ]
    },
    {
      "cell_type": "markdown",
      "source": [
        "# Logistic Regression one  vs rest "
      ],
      "metadata": {
        "id": "O677DQ3GoZ5L"
      }
    },
    {
      "cell_type": "code",
      "source": [
        "from sklearn.linear_model import LogisticRegression  \n",
        "logistic_regression= LogisticRegression(random_state=0,multi_class=\"ovr\") #initialise one vs rest\n",
        "logistic_regression.fit(X_train,y_train)\n"
      ],
      "metadata": {
        "colab": {
          "base_uri": "https://localhost:8080/",
          "height": 75
        },
        "id": "nfa4tRFhkXuA",
        "outputId": "0c6310e5-55c3-4937-b9e6-3f59f3b8d7d8"
      },
      "execution_count": null,
      "outputs": [
        {
          "output_type": "execute_result",
          "data": {
            "text/plain": [
              "LogisticRegression(multi_class='ovr', random_state=0)"
            ],
            "text/html": [
              "<style>#sk-container-id-1 {color: black;background-color: white;}#sk-container-id-1 pre{padding: 0;}#sk-container-id-1 div.sk-toggleable {background-color: white;}#sk-container-id-1 label.sk-toggleable__label {cursor: pointer;display: block;width: 100%;margin-bottom: 0;padding: 0.3em;box-sizing: border-box;text-align: center;}#sk-container-id-1 label.sk-toggleable__label-arrow:before {content: \"▸\";float: left;margin-right: 0.25em;color: #696969;}#sk-container-id-1 label.sk-toggleable__label-arrow:hover:before {color: black;}#sk-container-id-1 div.sk-estimator:hover label.sk-toggleable__label-arrow:before {color: black;}#sk-container-id-1 div.sk-toggleable__content {max-height: 0;max-width: 0;overflow: hidden;text-align: left;background-color: #f0f8ff;}#sk-container-id-1 div.sk-toggleable__content pre {margin: 0.2em;color: black;border-radius: 0.25em;background-color: #f0f8ff;}#sk-container-id-1 input.sk-toggleable__control:checked~div.sk-toggleable__content {max-height: 200px;max-width: 100%;overflow: auto;}#sk-container-id-1 input.sk-toggleable__control:checked~label.sk-toggleable__label-arrow:before {content: \"▾\";}#sk-container-id-1 div.sk-estimator input.sk-toggleable__control:checked~label.sk-toggleable__label {background-color: #d4ebff;}#sk-container-id-1 div.sk-label input.sk-toggleable__control:checked~label.sk-toggleable__label {background-color: #d4ebff;}#sk-container-id-1 input.sk-hidden--visually {border: 0;clip: rect(1px 1px 1px 1px);clip: rect(1px, 1px, 1px, 1px);height: 1px;margin: -1px;overflow: hidden;padding: 0;position: absolute;width: 1px;}#sk-container-id-1 div.sk-estimator {font-family: monospace;background-color: #f0f8ff;border: 1px dotted black;border-radius: 0.25em;box-sizing: border-box;margin-bottom: 0.5em;}#sk-container-id-1 div.sk-estimator:hover {background-color: #d4ebff;}#sk-container-id-1 div.sk-parallel-item::after {content: \"\";width: 100%;border-bottom: 1px solid gray;flex-grow: 1;}#sk-container-id-1 div.sk-label:hover label.sk-toggleable__label {background-color: #d4ebff;}#sk-container-id-1 div.sk-serial::before {content: \"\";position: absolute;border-left: 1px solid gray;box-sizing: border-box;top: 0;bottom: 0;left: 50%;z-index: 0;}#sk-container-id-1 div.sk-serial {display: flex;flex-direction: column;align-items: center;background-color: white;padding-right: 0.2em;padding-left: 0.2em;position: relative;}#sk-container-id-1 div.sk-item {position: relative;z-index: 1;}#sk-container-id-1 div.sk-parallel {display: flex;align-items: stretch;justify-content: center;background-color: white;position: relative;}#sk-container-id-1 div.sk-item::before, #sk-container-id-1 div.sk-parallel-item::before {content: \"\";position: absolute;border-left: 1px solid gray;box-sizing: border-box;top: 0;bottom: 0;left: 50%;z-index: -1;}#sk-container-id-1 div.sk-parallel-item {display: flex;flex-direction: column;z-index: 1;position: relative;background-color: white;}#sk-container-id-1 div.sk-parallel-item:first-child::after {align-self: flex-end;width: 50%;}#sk-container-id-1 div.sk-parallel-item:last-child::after {align-self: flex-start;width: 50%;}#sk-container-id-1 div.sk-parallel-item:only-child::after {width: 0;}#sk-container-id-1 div.sk-dashed-wrapped {border: 1px dashed gray;margin: 0 0.4em 0.5em 0.4em;box-sizing: border-box;padding-bottom: 0.4em;background-color: white;}#sk-container-id-1 div.sk-label label {font-family: monospace;font-weight: bold;display: inline-block;line-height: 1.2em;}#sk-container-id-1 div.sk-label-container {text-align: center;}#sk-container-id-1 div.sk-container {/* jupyter's `normalize.less` sets `[hidden] { display: none; }` but bootstrap.min.css set `[hidden] { display: none !important; }` so we also need the `!important` here to be able to override the default hidden behavior on the sphinx rendered scikit-learn.org. See: https://github.com/scikit-learn/scikit-learn/issues/21755 */display: inline-block !important;position: relative;}#sk-container-id-1 div.sk-text-repr-fallback {display: none;}</style><div id=\"sk-container-id-1\" class=\"sk-top-container\"><div class=\"sk-text-repr-fallback\"><pre>LogisticRegression(multi_class=&#x27;ovr&#x27;, random_state=0)</pre><b>In a Jupyter environment, please rerun this cell to show the HTML representation or trust the notebook. <br />On GitHub, the HTML representation is unable to render, please try loading this page with nbviewer.org.</b></div><div class=\"sk-container\" hidden><div class=\"sk-item\"><div class=\"sk-estimator sk-toggleable\"><input class=\"sk-toggleable__control sk-hidden--visually\" id=\"sk-estimator-id-1\" type=\"checkbox\" checked><label for=\"sk-estimator-id-1\" class=\"sk-toggleable__label sk-toggleable__label-arrow\">LogisticRegression</label><div class=\"sk-toggleable__content\"><pre>LogisticRegression(multi_class=&#x27;ovr&#x27;, random_state=0)</pre></div></div></div></div></div>"
            ]
          },
          "metadata": {},
          "execution_count": 40
        }
      ]
    },
    {
      "cell_type": "code",
      "source": [
        "predicted_y=logistic_regression.predict(X_test)\n",
        "predicted_y"
      ],
      "metadata": {
        "colab": {
          "base_uri": "https://localhost:8080/"
        },
        "id": "qO5Mgg4LkXyq",
        "outputId": "17f1f07f-b7ee-41c8-d903-b280ce2f6915"
      },
      "execution_count": null,
      "outputs": [
        {
          "output_type": "execute_result",
          "data": {
            "text/plain": [
              "array([3, 2, 3, 3, 0, 1, 0, 0, 3, 3, 0, 0, 3, 3, 0, 1, 2, 1, 3, 1, 0, 3,\n",
              "       0, 3, 0, 1, 2, 2, 2, 1, 3, 3, 2, 3, 3, 1, 3, 1, 2, 3, 0, 2, 2, 0,\n",
              "       1, 2, 2, 1, 1, 3, 3, 2, 0, 3, 0, 0, 1, 0, 0, 2, 1, 0, 3, 1, 0, 2,\n",
              "       0, 0, 3, 3, 3, 2, 3, 1, 0, 0, 3, 0, 2, 0, 3, 1, 3, 2, 3, 2, 0, 3,\n",
              "       1, 3, 1, 0, 0, 0, 0, 2, 1, 2, 3, 2, 2, 0, 2, 2, 1, 1, 0, 1, 3, 0,\n",
              "       1, 3, 3, 2, 0, 1, 0, 0, 3, 1, 2, 0, 1, 3, 2, 3, 2, 1, 2, 3, 2, 0,\n",
              "       2, 3, 0, 2, 0, 0, 1, 3, 1, 1, 3, 1])"
            ]
          },
          "metadata": {},
          "execution_count": 41
        }
      ]
    },
    {
      "cell_type": "code",
      "source": [
        "logistic_regression.coef_"
      ],
      "metadata": {
        "colab": {
          "base_uri": "https://localhost:8080/"
        },
        "id": "t5d1gZjPrAhd",
        "outputId": "d8f1a740-9545-47c3-bb04-c3e750a96835"
      },
      "execution_count": null,
      "outputs": [
        {
          "output_type": "execute_result",
          "data": {
            "text/plain": [
              "array([[ 0.04638333, -0.00970351, -0.78890689, -0.88105718,  0.94824571,\n",
              "        -0.73061854, -0.0720469 , -0.54082643, -0.27179636,  0.26140769,\n",
              "         0.58773773, -0.11732183,  0.34372476,  1.10141078, -0.33566773,\n",
              "        -0.01263461,  1.20726257, -0.48662138, -4.72222748],\n",
              "       [-1.12022803,  0.78544423,  0.83751292,  3.21837637, -2.12654582,\n",
              "         0.4003177 ,  0.31587405,  1.49575547,  0.44883988, -0.32771505,\n",
              "        -1.46961485,  0.83005857, -0.72746294, -2.25082958,  0.26255352,\n",
              "         0.03914836, -1.92152564,  0.07069611, -2.43415868],\n",
              "       [ 0.0932314 , -0.34650987, -1.61703732,  2.75409265, -1.3953153 ,\n",
              "        -1.1401352 ,  0.9164217 , -2.28870983,  1.04759854, -2.4120161 ,\n",
              "        -1.22788064,  0.01418523,  1.10391146, -2.03422429,  0.49177962,\n",
              "         0.18659715, -2.20730761,  0.23505703,  3.06827031],\n",
              "       [ 0.33006485,  0.29819988,  0.46873405, -0.93457474,  0.43424197,\n",
              "         1.12628005, -0.76629238,  0.82013938, -0.82326499,  1.2923312 ,\n",
              "        -0.54336269, -0.79705752, -0.44960327,  0.81087128, -0.24661031,\n",
              "        -0.36540077,  0.24123578,  0.54156999,  4.02750908]])"
            ]
          },
          "metadata": {},
          "execution_count": 42
        }
      ]
    },
    {
      "cell_type": "code",
      "source": [
        "logistic_regression.intercept_"
      ],
      "metadata": {
        "colab": {
          "base_uri": "https://localhost:8080/"
        },
        "id": "n_4cngzwrCq6",
        "outputId": "a0e849cb-7b65-4efb-995f-bbf464fb2d22"
      },
      "execution_count": null,
      "outputs": [
        {
          "output_type": "execute_result",
          "data": {
            "text/plain": [
              "array([-4.80255182, -2.26792976, -2.70429907, -5.2771819 ])"
            ]
          },
          "metadata": {},
          "execution_count": 43
        }
      ]
    },
    {
      "cell_type": "code",
      "source": [
        "logistic_regression.predict_proba(X_test)"
      ],
      "metadata": {
        "colab": {
          "base_uri": "https://localhost:8080/"
        },
        "id": "sRz2QkayrKg4",
        "outputId": "dfd2d2d7-51e0-48fb-a9ec-374d7a01af85"
      },
      "execution_count": null,
      "outputs": [
        {
          "output_type": "execute_result",
          "data": {
            "text/plain": [
              "array([[9.29559897e-06, 2.22805575e-03, 3.66672033e-01, 6.31090616e-01],\n",
              "       [3.37315364e-05, 4.85289366e-01, 5.11064921e-01, 3.61198149e-03],\n",
              "       [6.22930470e-05, 4.04750300e-04, 8.63651392e-02, 9.13167817e-01],\n",
              "       [1.46839803e-05, 1.47216029e-03, 9.42130656e-03, 9.89091849e-01],\n",
              "       [8.75137353e-01, 1.24670635e-01, 8.05212162e-05, 1.11490798e-04],\n",
              "       [6.82344561e-03, 9.62114879e-01, 2.00421400e-02, 1.10195354e-02],\n",
              "       [9.85731149e-01, 8.91239770e-03, 5.35243378e-03, 4.01910087e-06],\n",
              "       [8.61464938e-01, 1.35247523e-01, 3.25896805e-03, 2.85705143e-05],\n",
              "       [3.95288762e-06, 1.49338231e-02, 3.38241299e-01, 6.46820925e-01],\n",
              "       [2.18035917e-05, 1.32055458e-03, 2.33597839e-01, 7.65059803e-01],\n",
              "       [7.94758506e-01, 2.03182082e-01, 2.03909902e-03, 2.03128093e-05],\n",
              "       [7.65174231e-01, 1.89042503e-01, 4.57832406e-02, 2.55200684e-08],\n",
              "       [2.69556339e-06, 7.16241547e-03, 1.47735128e-01, 8.45099761e-01],\n",
              "       [7.08972114e-06, 4.55152327e-03, 8.33446194e-02, 9.12096768e-01],\n",
              "       [9.89227391e-01, 8.13514980e-03, 2.63606758e-03, 1.39161233e-06],\n",
              "       [1.04315895e-02, 8.47344089e-01, 1.41900186e-01, 3.24135157e-04],\n",
              "       [8.76966868e-05, 1.85978487e-01, 8.12163438e-01, 1.77037845e-03],\n",
              "       [2.37487051e-02, 9.65048300e-01, 7.60564775e-03, 3.59734695e-03],\n",
              "       [1.59388742e-05, 3.98360489e-04, 2.74752723e-01, 7.24832977e-01],\n",
              "       [2.80631307e-02, 9.09528689e-01, 6.19697025e-02, 4.38478182e-04],\n",
              "       [6.85725848e-01, 3.14020470e-01, 8.88662768e-05, 1.64815380e-04],\n",
              "       [4.98989690e-06, 2.49176174e-03, 2.17598566e-01, 7.79904683e-01],\n",
              "       [8.12762571e-01, 1.29346463e-01, 5.78909432e-02, 2.27584590e-08],\n",
              "       [8.14642458e-06, 3.92793627e-03, 4.60874353e-02, 9.49976482e-01],\n",
              "       [6.74333684e-01, 3.25278199e-01, 7.49856412e-05, 3.13130763e-04],\n",
              "       [1.16904046e-02, 5.94192833e-01, 3.94109521e-01, 7.24170256e-06],\n",
              "       [5.65782726e-04, 2.95261649e-01, 5.27117900e-01, 1.77054668e-01],\n",
              "       [2.93582887e-04, 2.01012290e-01, 6.93994808e-01, 1.04699319e-01],\n",
              "       [2.63894007e-05, 2.21517890e-01, 7.73148904e-01, 5.30681609e-03],\n",
              "       [1.01316818e-01, 6.96991076e-01, 2.00884317e-01, 8.07788833e-04],\n",
              "       [6.62096006e-06, 1.78086274e-03, 7.51458066e-02, 9.23066710e-01],\n",
              "       [1.05825747e-05, 3.42657270e-03, 9.93734811e-02, 8.97189364e-01],\n",
              "       [2.11512182e-03, 1.58431758e-01, 6.62460250e-01, 1.76992871e-01],\n",
              "       [3.02645647e-05, 7.91779460e-04, 2.65160249e-01, 7.34017707e-01],\n",
              "       [4.52150794e-05, 4.34808125e-04, 1.65836709e-01, 8.33683268e-01],\n",
              "       [2.29479883e-02, 7.35435932e-01, 2.41546321e-01, 6.97589754e-05],\n",
              "       [6.38412609e-06, 1.21582139e-02, 1.74221308e-01, 8.13614094e-01],\n",
              "       [1.52115696e-01, 5.95182885e-01, 2.49892751e-01, 2.80866717e-03],\n",
              "       [7.28174657e-05, 2.42786199e-01, 7.54638399e-01, 2.50258386e-03],\n",
              "       [2.54382124e-05, 1.11757288e-03, 3.61307701e-01, 6.37549288e-01],\n",
              "       [7.63695946e-01, 2.35988119e-01, 2.16722184e-04, 9.92128357e-05],\n",
              "       [2.69789074e-04, 3.74711609e-01, 6.11193347e-01, 1.38252547e-02],\n",
              "       [1.78540420e-04, 1.72514460e-01, 8.26250932e-01, 1.05606691e-03],\n",
              "       [8.50570053e-01, 1.44273546e-01, 5.15436956e-03, 2.03165635e-06],\n",
              "       [3.04125099e-03, 9.04017759e-01, 9.28533557e-02, 8.76343725e-05],\n",
              "       [1.32754101e-03, 1.71281373e-01, 8.20365373e-01, 7.02571260e-03],\n",
              "       [9.92885847e-03, 1.80790117e-02, 8.73666043e-01, 9.83260869e-02],\n",
              "       [6.98592410e-02, 8.91198740e-01, 3.87812012e-02, 1.60818104e-04],\n",
              "       [8.13340469e-03, 9.55909544e-01, 3.56151754e-02, 3.41875719e-04],\n",
              "       [3.74510862e-06, 8.01444829e-03, 7.58722039e-02, 9.16109603e-01],\n",
              "       [6.93038215e-06, 1.23004325e-03, 8.80561951e-03, 9.89957407e-01],\n",
              "       [6.77644674e-05, 3.68306780e-01, 6.23080304e-01, 8.54515126e-03],\n",
              "       [8.86638561e-01, 1.12314488e-01, 1.01656193e-03, 3.03893228e-05],\n",
              "       [1.27171393e-05, 3.60946763e-03, 2.05121739e-02, 9.75865641e-01],\n",
              "       [8.33997664e-01, 1.65817723e-01, 1.16143351e-04, 6.84694401e-05],\n",
              "       [8.07045845e-01, 1.92274449e-01, 6.31371050e-04, 4.83349242e-05],\n",
              "       [2.11623717e-02, 5.97321416e-01, 3.81489165e-01, 2.70472074e-05],\n",
              "       [9.91227000e-01, 7.88681005e-03, 8.77016660e-04, 9.17360216e-06],\n",
              "       [9.91055932e-01, 8.08068788e-03, 8.58578450e-04, 4.80148372e-06],\n",
              "       [1.34783128e-04, 3.87554692e-01, 6.10055327e-01, 2.25519721e-03],\n",
              "       [1.27138051e-01, 7.95712796e-01, 7.42643005e-02, 2.88485207e-03],\n",
              "       [8.67422772e-01, 1.26129645e-01, 1.35848025e-06, 6.44622448e-03],\n",
              "       [2.31347039e-05, 1.82428193e-03, 1.19837343e-01, 8.78315240e-01],\n",
              "       [3.54974191e-02, 5.62001237e-01, 4.02283765e-01, 2.17579030e-04],\n",
              "       [4.17215612e-01, 3.76848602e-01, 2.05935785e-01, 4.95860088e-10],\n",
              "       [3.07174008e-04, 7.06649321e-02, 9.26626406e-01, 2.40148829e-03],\n",
              "       [8.38685676e-01, 1.51739817e-01, 9.57411205e-03, 3.94612597e-07],\n",
              "       [8.93354131e-01, 8.37359168e-02, 1.78279760e-02, 5.08197575e-03],\n",
              "       [1.11106776e-06, 9.66072010e-03, 1.33044556e-01, 8.57293613e-01],\n",
              "       [2.60018043e-04, 3.08668584e-05, 3.52632331e-01, 6.47076784e-01],\n",
              "       [9.50657165e-06, 4.60313398e-03, 6.72770876e-02, 9.28110272e-01],\n",
              "       [5.50131508e-05, 1.54860466e-01, 8.43358494e-01, 1.72602650e-03],\n",
              "       [3.62616009e-06, 2.02488473e-02, 2.44562266e-01, 7.35185261e-01],\n",
              "       [1.57839930e-02, 9.00619946e-01, 8.32843885e-02, 3.11672203e-04],\n",
              "       [8.28591129e-01, 1.70409384e-01, 9.38150832e-04, 6.13358960e-05],\n",
              "       [6.35173697e-01, 3.64447798e-01, 2.59172093e-04, 1.19332473e-04],\n",
              "       [3.65245858e-06, 5.16557113e-03, 6.37755541e-02, 9.31055222e-01],\n",
              "       [8.03886498e-01, 1.95765934e-01, 2.48156104e-04, 9.94116984e-05],\n",
              "       [2.65830852e-04, 7.54067283e-02, 9.19008682e-01, 5.31875841e-03],\n",
              "       [6.78584443e-01, 8.20901492e-03, 3.13206542e-01, 5.67585473e-10],\n",
              "       [2.04370372e-05, 1.57351903e-03, 2.25193349e-01, 7.73212695e-01],\n",
              "       [1.02108849e-01, 7.22638877e-01, 1.73816934e-01, 1.43533951e-03],\n",
              "       [8.84086856e-05, 1.39334128e-04, 3.44066551e-01, 6.55705706e-01],\n",
              "       [9.29102025e-05, 3.83232854e-01, 6.06987354e-01, 9.68688214e-03],\n",
              "       [1.12873284e-05, 3.28545456e-03, 1.09628717e-01, 8.87074541e-01],\n",
              "       [5.76875004e-02, 2.94707546e-01, 6.47588827e-01, 1.61264795e-05],\n",
              "       [8.54891742e-01, 1.40884698e-01, 4.22013863e-03, 3.42105469e-06],\n",
              "       [7.50405118e-06, 3.71330952e-03, 2.50537004e-01, 7.45742182e-01],\n",
              "       [3.30872823e-02, 8.70770064e-01, 9.59976173e-02, 1.45035892e-04],\n",
              "       [2.01391142e-05, 9.74480291e-04, 2.38244181e-01, 7.60761200e-01],\n",
              "       [4.13009075e-05, 6.08112617e-01, 3.83408921e-01, 8.43716130e-03],\n",
              "       [9.12600195e-01, 3.68056117e-02, 5.05941659e-02, 2.77196065e-08],\n",
              "       [9.54823120e-01, 4.47245510e-02, 2.54178613e-05, 4.26911015e-04],\n",
              "       [9.50801582e-01, 4.85857088e-02, 6.01918110e-04, 1.07908733e-05],\n",
              "       [9.07339812e-01, 9.24443066e-02, 8.17398279e-05, 1.34141295e-04],\n",
              "       [5.49677860e-04, 2.64504539e-01, 7.21741171e-01, 1.32046126e-02],\n",
              "       [1.24505482e-02, 9.30712214e-01, 5.26003890e-02, 4.23684930e-03],\n",
              "       [1.80409199e-04, 1.93952234e-01, 8.01387438e-01, 4.47991942e-03],\n",
              "       [4.67203579e-06, 8.40017296e-03, 2.66473817e-01, 7.25121338e-01],\n",
              "       [3.58632032e-04, 9.42909657e-02, 9.04466330e-01, 8.84072117e-04],\n",
              "       [1.33663448e-03, 2.27440971e-02, 9.53826476e-01, 2.20927925e-02],\n",
              "       [9.32026374e-01, 6.39314182e-02, 4.04198717e-03, 2.20362925e-07],\n",
              "       [8.86619554e-04, 1.17985483e-01, 8.59893602e-01, 2.12342961e-02],\n",
              "       [1.04540265e-04, 2.34914885e-01, 7.63143454e-01, 1.83712054e-03],\n",
              "       [1.33895146e-03, 9.19464339e-01, 7.89522613e-02, 2.44448376e-04],\n",
              "       [1.10372542e-02, 7.09741148e-01, 2.79193172e-01, 2.84257194e-05],\n",
              "       [6.57431824e-01, 1.45220649e-01, 1.97347525e-01, 2.05973366e-09],\n",
              "       [2.79113406e-02, 9.12281887e-01, 5.93934358e-02, 4.13336323e-04],\n",
              "       [4.70153408e-06, 2.76132609e-03, 9.83569970e-02, 8.98876975e-01],\n",
              "       [9.44440473e-01, 5.51338906e-02, 3.31182911e-04, 9.44536009e-05],\n",
              "       [3.10801406e-01, 5.13720468e-01, 1.70822898e-01, 4.65522770e-03],\n",
              "       [8.59750923e-06, 2.98497436e-03, 3.98862014e-01, 5.98144414e-01],\n",
              "       [1.96000591e-06, 1.02170196e-02, 1.89192576e-01, 8.00588445e-01],\n",
              "       [5.30030832e-04, 4.98764633e-02, 9.48229121e-01, 1.36438472e-03],\n",
              "       [6.78613327e-01, 3.20811406e-01, 5.08555075e-04, 6.67120423e-05],\n",
              "       [2.13113569e-02, 6.90015448e-01, 2.88501256e-01, 1.71938823e-04],\n",
              "       [7.79711077e-01, 1.93097556e-01, 2.71910384e-02, 3.28540260e-07],\n",
              "       [8.54492115e-01, 1.45308116e-01, 9.23988824e-05, 1.07369887e-04],\n",
              "       [6.89277820e-06, 3.39574996e-03, 1.68983589e-01, 8.27613769e-01],\n",
              "       [1.35008535e-01, 7.18427042e-01, 1.42073042e-01, 4.49138143e-03],\n",
              "       [6.96734040e-04, 2.63051329e-01, 6.26463668e-01, 1.09788269e-01],\n",
              "       [5.77583425e-01, 4.22148140e-01, 2.06879186e-04, 6.15551712e-05],\n",
              "       [1.07984024e-01, 4.47489105e-01, 4.44237978e-01, 2.88893096e-04],\n",
              "       [1.55253077e-05, 1.09776089e-03, 1.23449621e-01, 8.75437093e-01],\n",
              "       [3.19683614e-03, 3.63800548e-02, 9.54128346e-01, 6.29476283e-03],\n",
              "       [8.02914803e-06, 1.72945413e-03, 9.38229524e-02, 9.04439564e-01],\n",
              "       [3.04259157e-05, 4.47782656e-01, 5.50996309e-01, 1.19060884e-03],\n",
              "       [2.65092785e-03, 9.08545511e-01, 8.85951785e-02, 2.08382326e-04],\n",
              "       [9.57119240e-04, 8.95626676e-02, 8.94571842e-01, 1.49083707e-02],\n",
              "       [1.19755591e-06, 8.66607701e-03, 1.34277838e-01, 8.57054888e-01],\n",
              "       [8.45556046e-04, 1.77369075e-01, 7.98875954e-01, 2.29094148e-02],\n",
              "       [9.25724726e-01, 7.39844057e-02, 5.60803474e-05, 2.34787543e-04],\n",
              "       [1.70328586e-05, 3.90639369e-01, 6.06855345e-01, 2.48825336e-03],\n",
              "       [3.16792449e-05, 6.25871027e-04, 1.61383844e-01, 8.37958606e-01],\n",
              "       [7.84978193e-01, 2.21125924e-02, 1.92172903e-01, 7.36311589e-04],\n",
              "       [2.26795078e-04, 4.19971809e-01, 5.39027078e-01, 4.07743179e-02],\n",
              "       [9.88647444e-01, 1.10969653e-02, 2.29399827e-04, 2.61911792e-05],\n",
              "       [6.07231775e-01, 3.91682896e-01, 1.06069104e-03, 2.46377356e-05],\n",
              "       [6.43504231e-03, 8.16371640e-01, 1.77160072e-01, 3.32463890e-05],\n",
              "       [1.09400741e-05, 1.18620520e-03, 1.63434039e-01, 8.35368816e-01],\n",
              "       [6.33194614e-03, 9.68500116e-01, 2.05426208e-02, 4.62531723e-03],\n",
              "       [3.60466333e-01, 6.37133105e-01, 1.63214670e-05, 2.38424109e-03],\n",
              "       [5.12302593e-06, 4.62254864e-03, 6.35327035e-02, 9.31839625e-01],\n",
              "       [6.22418216e-03, 9.36144999e-01, 5.64655916e-02, 1.16522692e-03]])"
            ]
          },
          "metadata": {},
          "execution_count": 44
        }
      ]
    },
    {
      "cell_type": "markdown",
      "source": [
        "# Evaluation Metrics Of Logistic regression one vs rest extension"
      ],
      "metadata": {
        "id": "QhKo0rhCp-Tm"
      }
    },
    {
      "cell_type": "code",
      "source": [
        "from sklearn.metrics import accuracy_score,confusion_matrix, f1_score\n",
        "ac=logistic_regression.score(X_test,y_test) # accuracy\n",
        "print(\"Accuracy =\",ac)\n",
        "\n"
      ],
      "metadata": {
        "colab": {
          "base_uri": "https://localhost:8080/"
        },
        "id": "h3G5GE1vnBjd",
        "outputId": "71f64f08-f6ff-40cf-de7b-76c6ac7f7e20"
      },
      "execution_count": null,
      "outputs": [
        {
          "output_type": "stream",
          "name": "stdout",
          "text": [
            "Accuracy = 0.9652777777777778\n"
          ]
        }
      ]
    },
    {
      "cell_type": "markdown",
      "source": [],
      "metadata": {
        "id": "ZQYJUjxPxbaH"
      }
    },
    {
      "cell_type": "markdown",
      "source": [
        "here accuracy of this model 83 percentage ,its good accuracy ,but its not enough,next we find the f1 score"
      ],
      "metadata": {
        "id": "9J6zbjs-qgaZ"
      }
    },
    {
      "cell_type": "markdown",
      "source": [
        "# F1 Score"
      ],
      "metadata": {
        "id": "Pc7OoVfixcrX"
      }
    },
    {
      "cell_type": "markdown",
      "source": [
        "\n",
        "\n",
        "1.   as The F1_SCore is more sensitive to data distribution,its a suitable measure for classification problems on imbalanced dataset\n",
        "2.   Unlike binary classification,multiclass classification generates an f1 score  for each class separately\n",
        "\n"
      ],
      "metadata": {
        "id": "temjA9B6wmrO"
      }
    },
    {
      "cell_type": "code",
      "source": [
        "f1=f1_score(y_test,predicted_y,average='weighted') \n",
        "print(\"F1_score\",f1)"
      ],
      "metadata": {
        "colab": {
          "base_uri": "https://localhost:8080/"
        },
        "id": "kX_AYQ_7nBrh",
        "outputId": "7457a058-dcf2-425f-9c41-f8a9c1763e88"
      },
      "execution_count": null,
      "outputs": [
        {
          "output_type": "stream",
          "name": "stdout",
          "text": [
            "F1_score 0.9651340611256223\n"
          ]
        }
      ]
    },
    {
      "cell_type": "markdown",
      "source": [
        "here we got 83 percentage its a good f1 score"
      ],
      "metadata": {
        "id": "bKnngU2NxukK"
      }
    },
    {
      "cell_type": "markdown",
      "source": [
        "#CONFUSION MATRIX"
      ],
      "metadata": {
        "id": "bnGlZ3UJvttK"
      }
    },
    {
      "cell_type": "code",
      "source": [
        "cm=confusion_matrix(y_test,predicted_y)\n",
        "cm"
      ],
      "metadata": {
        "colab": {
          "base_uri": "https://localhost:8080/"
        },
        "id": "YgHbTBAYnBxN",
        "outputId": "9c7eb2d3-4955-4399-85e1-35b0074a4c50"
      },
      "execution_count": null,
      "outputs": [
        {
          "output_type": "execute_result",
          "data": {
            "text/plain": [
              "array([[38,  1,  0,  0],\n",
              "       [ 2, 29,  1,  0],\n",
              "       [ 0,  1, 31,  0],\n",
              "       [ 0,  0,  0, 41]])"
            ]
          },
          "metadata": {},
          "execution_count": 47
        }
      ]
    },
    {
      "cell_type": "code",
      "source": [
        "pd.crosstab(predicted_y,y_test)"
      ],
      "metadata": {
        "colab": {
          "base_uri": "https://localhost:8080/",
          "height": 206
        },
        "id": "Uq3OPJGyvVzG",
        "outputId": "48a7784a-a94b-47b8-a889-f957c88cad0b"
      },
      "execution_count": null,
      "outputs": [
        {
          "output_type": "execute_result",
          "data": {
            "text/plain": [
              "col_0   0   1   2   3\n",
              "row_0                \n",
              "0      38   2   0   0\n",
              "1       1  29   1   0\n",
              "2       0   1  31   0\n",
              "3       0   0   0  41"
            ],
            "text/html": [
              "\n",
              "  <div id=\"df-22480685-3908-4d3e-9c1b-5f23b63a29a6\">\n",
              "    <div class=\"colab-df-container\">\n",
              "      <div>\n",
              "<style scoped>\n",
              "    .dataframe tbody tr th:only-of-type {\n",
              "        vertical-align: middle;\n",
              "    }\n",
              "\n",
              "    .dataframe tbody tr th {\n",
              "        vertical-align: top;\n",
              "    }\n",
              "\n",
              "    .dataframe thead th {\n",
              "        text-align: right;\n",
              "    }\n",
              "</style>\n",
              "<table border=\"1\" class=\"dataframe\">\n",
              "  <thead>\n",
              "    <tr style=\"text-align: right;\">\n",
              "      <th>col_0</th>\n",
              "      <th>0</th>\n",
              "      <th>1</th>\n",
              "      <th>2</th>\n",
              "      <th>3</th>\n",
              "    </tr>\n",
              "    <tr>\n",
              "      <th>row_0</th>\n",
              "      <th></th>\n",
              "      <th></th>\n",
              "      <th></th>\n",
              "      <th></th>\n",
              "    </tr>\n",
              "  </thead>\n",
              "  <tbody>\n",
              "    <tr>\n",
              "      <th>0</th>\n",
              "      <td>38</td>\n",
              "      <td>2</td>\n",
              "      <td>0</td>\n",
              "      <td>0</td>\n",
              "    </tr>\n",
              "    <tr>\n",
              "      <th>1</th>\n",
              "      <td>1</td>\n",
              "      <td>29</td>\n",
              "      <td>1</td>\n",
              "      <td>0</td>\n",
              "    </tr>\n",
              "    <tr>\n",
              "      <th>2</th>\n",
              "      <td>0</td>\n",
              "      <td>1</td>\n",
              "      <td>31</td>\n",
              "      <td>0</td>\n",
              "    </tr>\n",
              "    <tr>\n",
              "      <th>3</th>\n",
              "      <td>0</td>\n",
              "      <td>0</td>\n",
              "      <td>0</td>\n",
              "      <td>41</td>\n",
              "    </tr>\n",
              "  </tbody>\n",
              "</table>\n",
              "</div>\n",
              "      <button class=\"colab-df-convert\" onclick=\"convertToInteractive('df-22480685-3908-4d3e-9c1b-5f23b63a29a6')\"\n",
              "              title=\"Convert this dataframe to an interactive table.\"\n",
              "              style=\"display:none;\">\n",
              "        \n",
              "  <svg xmlns=\"http://www.w3.org/2000/svg\" height=\"24px\"viewBox=\"0 0 24 24\"\n",
              "       width=\"24px\">\n",
              "    <path d=\"M0 0h24v24H0V0z\" fill=\"none\"/>\n",
              "    <path d=\"M18.56 5.44l.94 2.06.94-2.06 2.06-.94-2.06-.94-.94-2.06-.94 2.06-2.06.94zm-11 1L8.5 8.5l.94-2.06 2.06-.94-2.06-.94L8.5 2.5l-.94 2.06-2.06.94zm10 10l.94 2.06.94-2.06 2.06-.94-2.06-.94-.94-2.06-.94 2.06-2.06.94z\"/><path d=\"M17.41 7.96l-1.37-1.37c-.4-.4-.92-.59-1.43-.59-.52 0-1.04.2-1.43.59L10.3 9.45l-7.72 7.72c-.78.78-.78 2.05 0 2.83L4 21.41c.39.39.9.59 1.41.59.51 0 1.02-.2 1.41-.59l7.78-7.78 2.81-2.81c.8-.78.8-2.07 0-2.86zM5.41 20L4 18.59l7.72-7.72 1.47 1.35L5.41 20z\"/>\n",
              "  </svg>\n",
              "      </button>\n",
              "      \n",
              "  <style>\n",
              "    .colab-df-container {\n",
              "      display:flex;\n",
              "      flex-wrap:wrap;\n",
              "      gap: 12px;\n",
              "    }\n",
              "\n",
              "    .colab-df-convert {\n",
              "      background-color: #E8F0FE;\n",
              "      border: none;\n",
              "      border-radius: 50%;\n",
              "      cursor: pointer;\n",
              "      display: none;\n",
              "      fill: #1967D2;\n",
              "      height: 32px;\n",
              "      padding: 0 0 0 0;\n",
              "      width: 32px;\n",
              "    }\n",
              "\n",
              "    .colab-df-convert:hover {\n",
              "      background-color: #E2EBFA;\n",
              "      box-shadow: 0px 1px 2px rgba(60, 64, 67, 0.3), 0px 1px 3px 1px rgba(60, 64, 67, 0.15);\n",
              "      fill: #174EA6;\n",
              "    }\n",
              "\n",
              "    [theme=dark] .colab-df-convert {\n",
              "      background-color: #3B4455;\n",
              "      fill: #D2E3FC;\n",
              "    }\n",
              "\n",
              "    [theme=dark] .colab-df-convert:hover {\n",
              "      background-color: #434B5C;\n",
              "      box-shadow: 0px 1px 3px 1px rgba(0, 0, 0, 0.15);\n",
              "      filter: drop-shadow(0px 1px 2px rgba(0, 0, 0, 0.3));\n",
              "      fill: #FFFFFF;\n",
              "    }\n",
              "  </style>\n",
              "\n",
              "      <script>\n",
              "        const buttonEl =\n",
              "          document.querySelector('#df-22480685-3908-4d3e-9c1b-5f23b63a29a6 button.colab-df-convert');\n",
              "        buttonEl.style.display =\n",
              "          google.colab.kernel.accessAllowed ? 'block' : 'none';\n",
              "\n",
              "        async function convertToInteractive(key) {\n",
              "          const element = document.querySelector('#df-22480685-3908-4d3e-9c1b-5f23b63a29a6');\n",
              "          const dataTable =\n",
              "            await google.colab.kernel.invokeFunction('convertToInteractive',\n",
              "                                                     [key], {});\n",
              "          if (!dataTable) return;\n",
              "\n",
              "          const docLinkHtml = 'Like what you see? Visit the ' +\n",
              "            '<a target=\"_blank\" href=https://colab.research.google.com/notebooks/data_table.ipynb>data table notebook</a>'\n",
              "            + ' to learn more about interactive tables.';\n",
              "          element.innerHTML = '';\n",
              "          dataTable['output_type'] = 'display_data';\n",
              "          await google.colab.output.renderOutput(dataTable, element);\n",
              "          const docLink = document.createElement('div');\n",
              "          docLink.innerHTML = docLinkHtml;\n",
              "          element.appendChild(docLink);\n",
              "        }\n",
              "      </script>\n",
              "    </div>\n",
              "  </div>\n",
              "  "
            ]
          },
          "metadata": {},
          "execution_count": 48
        }
      ]
    },
    {
      "cell_type": "code",
      "source": [
        "\n",
        "plt.figure(figsize = (10,7))\n",
        "sns.heatmap(cm, annot = True)\n",
        "plt.xlabel('Predicted')\n",
        "plt.ylabel('Truth')"
      ],
      "metadata": {
        "colab": {
          "base_uri": "https://localhost:8080/",
          "height": 636
        },
        "id": "fnbOmJMSvWTK",
        "outputId": "b3c66091-f3d5-4289-80fa-54d2a17d472e"
      },
      "execution_count": null,
      "outputs": [
        {
          "output_type": "execute_result",
          "data": {
            "text/plain": [
              "Text(95.72222222222221, 0.5, 'Truth')"
            ]
          },
          "metadata": {},
          "execution_count": 49
        },
        {
          "output_type": "display_data",
          "data": {
            "text/plain": [
              "<Figure size 1000x700 with 2 Axes>"
            ],
            "image/png": "[encoded data removed]"
          },
          "metadata": {}
        }
      ]
    },
    {
      "cell_type": "markdown",
      "source": [
        "#  KNN"
      ],
      "metadata": {
        "id": "IXC0biqtyCJL"
      }
    },
    {
      "cell_type": "code",
      "source": [
        "from sklearn.neighbors import KNeighborsClassifier\n",
        "from sklearn.model_selection import cross_val_score\n",
        "import numpy as np\n",
        "knn = KNeighborsClassifier(n_neighbors = 7).fit(X_train, y_train)"
      ],
      "metadata": {
        "id": "GpCQbdJYvWcm"
      },
      "execution_count": null,
      "outputs": []
    },
    {
      "cell_type": "code",
      "source": [
        "#knn predictions\n",
        "knn_predictions = knn.predict(X_test) \n",
        "knn_predictions"
      ],
      "metadata": {
        "colab": {
          "base_uri": "https://localhost:8080/"
        },
        "id": "RVLi_tp3nB2d",
        "outputId": "5e3ccbf3-cd5a-41ca-fe1d-3f8d5a9989d6"
      },
      "execution_count": null,
      "outputs": [
        {
          "output_type": "execute_result",
          "data": {
            "text/plain": [
              "array([3, 2, 3, 3, 0, 2, 0, 0, 3, 3, 0, 0, 3, 3, 0, 2, 2, 2, 2, 1, 0, 3,\n",
              "       0, 3, 0, 1, 1, 2, 2, 1, 3, 3, 2, 3, 2, 1, 3, 2, 2, 3, 0, 2, 2, 0,\n",
              "       1, 1, 2, 1, 1, 3, 3, 2, 0, 3, 0, 0, 1, 0, 0, 1, 2, 0, 3, 2, 0, 2,\n",
              "       0, 1, 3, 3, 3, 2, 3, 1, 0, 0, 3, 0, 2, 0, 3, 1, 3, 2, 3, 1, 0, 3,\n",
              "       1, 3, 2, 0, 0, 0, 0, 2, 1, 2, 3, 2, 1, 0, 2, 2, 1, 1, 0, 1, 3, 0,\n",
              "       1, 3, 3, 2, 0, 1, 0, 0, 3, 0, 2, 0, 1, 3, 2, 3, 2, 1, 1, 3, 1, 0,\n",
              "       2, 3, 0, 2, 0, 0, 1, 3, 1, 0, 3, 1])"
            ]
          },
          "metadata": {},
          "execution_count": 51
        }
      ]
    },
    {
      "cell_type": "code",
      "source": [
        "accuracy = knn.score(X_test, y_test)\n",
        "print(\"accuracy=\",accuracy)"
      ],
      "metadata": {
        "colab": {
          "base_uri": "https://localhost:8080/"
        },
        "id": "M6wRF3Yj1qEp",
        "outputId": "e5ce7dd7-a7ba-4a5d-c217-95023792c6ae"
      },
      "execution_count": null,
      "outputs": [
        {
          "output_type": "stream",
          "name": "stdout",
          "text": [
            "accuracy= 0.8888888888888888\n"
          ]
        }
      ]
    },
    {
      "cell_type": "markdown",
      "source": [
        "Hyper parameter tuning"
      ],
      "metadata": {
        "id": "qbqz3dho2Q3u"
      }
    },
    {
      "cell_type": "code",
      "source": [
        "print(\"Train Accuracy : \", knn.score(X_train,y_train)) # test the model and it computes the accuracy (train data accuracy)\n",
        "print(\"Val Accuracy : \", np.mean(cross_val_score(knn, X_train, y_train, cv=10)))"
      ],
      "metadata": {
        "colab": {
          "base_uri": "https://localhost:8080/"
        },
        "id": "LxFyshYg1tNY",
        "outputId": "86b1dc87-0082-4f19-dac0-0eb9c606d416"
      },
      "execution_count": null,
      "outputs": [
        {
          "output_type": "stream",
          "name": "stdout",
          "text": [
            "Train Accuracy :  0.9165217391304348\n",
            "Val Accuracy :  0.8644888082274651\n"
          ]
        }
      ]
    },
    {
      "cell_type": "markdown",
      "source": [
        "# Decision Tree"
      ],
      "metadata": {
        "id": "cDSlObfz1CDh"
      }
    },
    {
      "cell_type": "markdown",
      "source": [
        "Decision tree classifier – A decision tree classifier is a systematic approach for multiclass classification. It poses a set of questions to the dataset (related to its attributes/features). The decision tree classification algorithm can be visualized on a binary tree. On the root and each of the internal nodes, a question is posed and the data on that node is further split into separate records that have different characteristics. The leaves of the tree refer to the classes in which the dataset is split. In the following code snippet, we train a decision tree classifier in scikit-learn."
      ],
      "metadata": {
        "id": "L9JgmSPe00sv"
      }
    },
    {
      "cell_type": "code",
      "source": [
        "from sklearn.tree import DecisionTreeClassifier\n",
        "dtree_model = DecisionTreeClassifier(max_depth = 2).fit(X_train, y_train)\n",
        "dtree_predictions = dtree_model.predict(X_test)\n",
        "dtree_predictions"
      ],
      "metadata": {
        "colab": {
          "base_uri": "https://localhost:8080/"
        },
        "id": "gfu6nfB7yrq1",
        "outputId": "5ec0469b-14bb-4a2b-f14d-e525d95bd8dc"
      },
      "execution_count": null,
      "outputs": [
        {
          "output_type": "execute_result",
          "data": {
            "text/plain": [
              "array([2, 2, 2, 2, 0, 1, 0, 0, 2, 2, 0, 0, 2, 2, 0, 1, 2, 1, 2, 1, 0, 2,\n",
              "       0, 2, 0, 1, 2, 2, 2, 1, 2, 2, 2, 2, 2, 1, 2, 1, 2, 2, 0, 2, 2, 0,\n",
              "       1, 2, 2, 1, 1, 2, 2, 2, 0, 2, 0, 0, 1, 0, 0, 2, 1, 0, 2, 1, 0, 2,\n",
              "       0, 1, 2, 2, 2, 2, 2, 1, 0, 0, 2, 0, 2, 0, 2, 1, 2, 2, 2, 1, 0, 2,\n",
              "       1, 2, 2, 0, 0, 0, 0, 2, 1, 2, 2, 2, 2, 0, 2, 2, 1, 1, 0, 1, 2, 0,\n",
              "       1, 2, 2, 2, 0, 1, 0, 0, 2, 1, 2, 0, 1, 2, 2, 2, 2, 1, 2, 2, 2, 0,\n",
              "       2, 2, 1, 2, 0, 0, 1, 2, 1, 0, 2, 1])"
            ]
          },
          "metadata": {},
          "execution_count": 54
        }
      ]
    },
    {
      "cell_type": "code",
      "source": [
        "accuracy = dtree_model.score(X_test, y_test)\n",
        "print(\"accuracy=\",accuracy)"
      ],
      "metadata": {
        "colab": {
          "base_uri": "https://localhost:8080/"
        },
        "id": "wE_maid-38s_",
        "outputId": "1d40a459-ac60-4040-b832-0ee210ba9464"
      },
      "execution_count": null,
      "outputs": [
        {
          "output_type": "stream",
          "name": "stdout",
          "text": [
            "accuracy= 0.7152777777777778\n"
          ]
        }
      ]
    },
    {
      "cell_type": "markdown",
      "source": [
        "here we got 71 percentage of accuracy but its not enough next we wil find f1 score"
      ],
      "metadata": {
        "id": "NicY3Hhw4PKF"
      }
    },
    {
      "cell_type": "code",
      "source": [
        "f1score_dt=f1_score(y_test,dtree_predictions,average='weighted')\n",
        "print(\"f1-score of decision tree=\",f1score_dt)"
      ],
      "metadata": {
        "colab": {
          "base_uri": "https://localhost:8080/"
        },
        "id": "Z0pmyUcM4fOE",
        "outputId": "4c8303b5-7034-4b7e-bde1-4ead763fa54f"
      },
      "execution_count": null,
      "outputs": [
        {
          "output_type": "stream",
          "name": "stdout",
          "text": [
            "f1-score of decision tree= 0.6285052910052911\n"
          ]
        }
      ]
    },
    {
      "cell_type": "code",
      "source": [
        "cm1 = confusion_matrix(y_test, dtree_predictions)\n",
        "cm1"
      ],
      "metadata": {
        "colab": {
          "base_uri": "https://localhost:8080/"
        },
        "id": "VUpifvpGyrvy",
        "outputId": "a607c579-1226-4262-d97d-54c508422c3d"
      },
      "execution_count": null,
      "outputs": [
        {
          "output_type": "execute_result",
          "data": {
            "text/plain": [
              "array([[39,  0,  0,  0],\n",
              "       [ 0, 32,  0,  0],\n",
              "       [ 0,  0, 32,  0],\n",
              "       [ 0,  0, 41,  0]])"
            ]
          },
          "metadata": {},
          "execution_count": 57
        }
      ]
    },
    {
      "cell_type": "code",
      "source": [
        "plt.figure(figsize = (10,7))\n",
        "sns.heatmap(cm1, annot = True)\n",
        "plt.xlabel('Predicted')\n",
        "plt.ylabel('Truth')\n",
        "plt.title(\"confusion matrix of decision tree classifier\")"
      ],
      "metadata": {
        "colab": {
          "base_uri": "https://localhost:8080/",
          "height": 658
        },
        "id": "qvH0PdHY3kut",
        "outputId": "6c4188c3-5b83-47f0-c9db-f18e85f0ce03"
      },
      "execution_count": null,
      "outputs": [
        {
          "output_type": "execute_result",
          "data": {
            "text/plain": [
              "Text(0.5, 1.0, 'confusion matrix of decision tree classifier')"
            ]
          },
          "metadata": {},
          "execution_count": 58
        },
        {
          "output_type": "display_data",
          "data": {
            "text/plain": [
              "<Figure size 1000x700 with 2 Axes>"
            ],
            "image/png": "[encoded data removed]"
          },
          "metadata": {}
        }
      ]
    },
    {
      "cell_type": "markdown",
      "source": [
        "here we got a f1 score 62 percentage"
      ],
      "metadata": {
        "id": "CdW8HSUV32Me"
      }
    },
    {
      "cell_type": "code",
      "source": [
        "from sklearn.svm import SVC\n",
        "svm_model_linear = SVC(kernel = 'linear', C = 1).fit(X_train, y_train)\n",
        "svm_predictions = svm_model_linear.predict(X_test)\n",
        "svm_predictions"
      ],
      "metadata": {
        "colab": {
          "base_uri": "https://localhost:8080/"
        },
        "id": "MpUQwSfsyr6z",
        "outputId": "54a75438-3fa5-46dc-efd4-81f769f387af"
      },
      "execution_count": null,
      "outputs": [
        {
          "output_type": "execute_result",
          "data": {
            "text/plain": [
              "array([3, 2, 3, 3, 0, 1, 0, 0, 3, 3, 0, 0, 3, 3, 0, 1, 2, 1, 3, 1, 0, 3,\n",
              "       0, 3, 0, 1, 2, 2, 2, 1, 3, 3, 2, 3, 3, 1, 3, 1, 2, 3, 0, 2, 2, 0,\n",
              "       1, 2, 2, 1, 1, 3, 3, 2, 0, 3, 0, 0, 1, 0, 0, 2, 1, 0, 3, 1, 0, 2,\n",
              "       0, 1, 3, 3, 3, 2, 3, 1, 0, 0, 3, 0, 2, 0, 3, 1, 3, 2, 3, 1, 0, 3,\n",
              "       1, 3, 2, 0, 0, 0, 0, 2, 1, 2, 3, 2, 2, 0, 2, 2, 1, 1, 0, 1, 3, 0,\n",
              "       1, 3, 3, 2, 0, 1, 0, 0, 3, 1, 2, 0, 1, 3, 2, 3, 2, 1, 2, 3, 2, 0,\n",
              "       2, 3, 1, 2, 0, 0, 1, 3, 1, 0, 3, 1])"
            ]
          },
          "metadata": {},
          "execution_count": 59
        }
      ]
    },
    {
      "cell_type": "code",
      "source": [
        "#accuracy\n",
        "accuracy_svm=svm_model_linear.score(X_test,y_test)\n",
        "print(\"accuracy of svm =\",accuracy_svm)"
      ],
      "metadata": {
        "colab": {
          "base_uri": "https://localhost:8080/"
        },
        "id": "Tc0OWXstysSF",
        "outputId": "5fcb2621-a86f-42d1-bf9f-61d6de4cf2a3"
      },
      "execution_count": null,
      "outputs": [
        {
          "output_type": "stream",
          "name": "stdout",
          "text": [
            "accuracy of svm = 1.0\n"
          ]
        }
      ]
    },
    {
      "cell_type": "markdown",
      "source": [
        "here we got a 99 percentage  of accuracy ,but its not enough so next we calculate the f1 score"
      ],
      "metadata": {
        "id": "HcYVPnbj6H3U"
      }
    },
    {
      "cell_type": "code",
      "source": [
        "#f1 score\n",
        "f1_svm=f1_score(y_test,svm_predictions,average='weighted')\n",
        "print(\"f1 score for svm =\",f1_svm)"
      ],
      "metadata": {
        "colab": {
          "base_uri": "https://localhost:8080/"
        },
        "id": "01n6aMdCysWi",
        "outputId": "48e787b3-7ca8-4621-80f8-1979e5218f71"
      },
      "execution_count": null,
      "outputs": [
        {
          "output_type": "stream",
          "name": "stdout",
          "text": [
            "f1 score for svm = 1.0\n"
          ]
        }
      ]
    },
    {
      "cell_type": "markdown",
      "source": [
        "#confusion matrix"
      ],
      "metadata": {
        "id": "VnEs9Obc7Ni9"
      }
    },
    {
      "cell_type": "code",
      "source": [
        "cm2 = confusion_matrix(y_test, svm_predictions)\n",
        "cm2"
      ],
      "metadata": {
        "colab": {
          "base_uri": "https://localhost:8080/"
        },
        "id": "ywj3SgfL7MEB",
        "outputId": "d38a6d4b-cd22-4210-82ab-d9af65afeb4e"
      },
      "execution_count": null,
      "outputs": [
        {
          "output_type": "execute_result",
          "data": {
            "text/plain": [
              "array([[39,  0,  0,  0],\n",
              "       [ 0, 32,  0,  0],\n",
              "       [ 0,  0, 32,  0],\n",
              "       [ 0,  0,  0, 41]])"
            ]
          },
          "metadata": {},
          "execution_count": 62
        }
      ]
    },
    {
      "cell_type": "code",
      "source": [
        "plt.figure(figsize = (10,7))\n",
        "sns.heatmap(cm2, annot = True)\n",
        "plt.xlabel('Predicted')\n",
        "plt.ylabel('Truth')\n",
        "plt.title(\"confusion matrix of support vector machine\")"
      ],
      "metadata": {
        "colab": {
          "base_uri": "https://localhost:8080/",
          "height": 658
        },
        "id": "56mNKZ4b7MmE",
        "outputId": "4183fee6-ffef-4ade-f06e-007581868c70"
      },
      "execution_count": null,
      "outputs": [
        {
          "output_type": "execute_result",
          "data": {
            "text/plain": [
              "Text(0.5, 1.0, 'confusion matrix of support vector machine')"
            ]
          },
          "metadata": {},
          "execution_count": 63
        },
        {
          "output_type": "display_data",
          "data": {
            "text/plain": [
              "<Figure size 1000x700 with 2 Axes>"
            ],
            "image/png": "[encoded data removed]"
          },
          "metadata": {}
        }
      ]
    },
    {
      "cell_type": "markdown",
      "source": [
        "# Naive Bayes classifier"
      ],
      "metadata": {
        "id": "Z63EbzDx71E4"
      }
    },
    {
      "cell_type": "markdown",
      "source": [
        "Naive Bayes classifier – Naive Bayes classification method is based on Bayes’ theorem. It is termed as ‘Naive’ because it assumes independence between every pair of features in the data. Let (x1, x2, …, xn) be a feature vector and y be the class label corresponding to this feature vector.\n",
        "Applying Bayes’ theorem, "
      ],
      "metadata": {
        "id": "fbZx85Do74rH"
      }
    },
    {
      "cell_type": "code",
      "source": [
        "from sklearn.naive_bayes import GaussianNB\n",
        "gnb = GaussianNB().fit(X_train, y_train)\n",
        "gnb_predictions = gnb.predict(X_test)\n",
        "gnb_predictions"
      ],
      "metadata": {
        "colab": {
          "base_uri": "https://localhost:8080/"
        },
        "id": "XN35uEfy7MrY",
        "outputId": "1ca8ffc3-19a1-4baa-9306-bc550a551de2"
      },
      "execution_count": null,
      "outputs": [
        {
          "output_type": "execute_result",
          "data": {
            "text/plain": [
              "array([3, 2, 3, 3, 0, 1, 0, 0, 3, 3, 0, 0, 3, 3, 0, 1, 2, 1, 3, 1, 0, 3,\n",
              "       0, 3, 0, 1, 2, 2, 2, 1, 3, 3, 2, 3, 3, 1, 3, 1, 2, 3, 0, 2, 2, 0,\n",
              "       1, 2, 2, 1, 1, 3, 3, 2, 0, 3, 0, 0, 1, 0, 0, 2, 1, 0, 3, 1, 0, 2,\n",
              "       0, 1, 3, 3, 3, 2, 3, 1, 0, 0, 3, 0, 2, 0, 3, 1, 3, 2, 3, 1, 0, 3,\n",
              "       1, 3, 2, 0, 0, 0, 0, 2, 1, 2, 3, 2, 2, 0, 2, 2, 1, 1, 0, 1, 3, 0,\n",
              "       1, 3, 3, 2, 0, 1, 0, 0, 3, 1, 2, 0, 1, 3, 2, 3, 2, 1, 2, 3, 2, 0,\n",
              "       2, 3, 1, 2, 0, 0, 1, 3, 1, 0, 3, 1])"
            ]
          },
          "metadata": {},
          "execution_count": 64
        }
      ]
    },
    {
      "cell_type": "code",
      "source": [
        "#accuracy\n",
        "accuracy_nb = gnb.score(X_test, y_test)\n",
        "print(\"accuracy of gnb =\",accuracy_nb)\n",
        "  "
      ],
      "metadata": {
        "colab": {
          "base_uri": "https://localhost:8080/"
        },
        "id": "mW3zs_6R7Mwt",
        "outputId": "13849d59-90d6-45b0-bc1c-0dd05bcced2f"
      },
      "execution_count": null,
      "outputs": [
        {
          "output_type": "stream",
          "name": "stdout",
          "text": [
            "accuracy of gnb = 1.0\n"
          ]
        }
      ]
    },
    {
      "cell_type": "code",
      "source": [
        "#f1 score\n",
        "f1_nb=f1_score(y_test,gnb_predictions,average='weighted')\n",
        "print(\"F1 score of naive bayes =\",f1_nb)"
      ],
      "metadata": {
        "colab": {
          "base_uri": "https://localhost:8080/"
        },
        "id": "nyzKgrac8aQD",
        "outputId": "794f013d-41f0-46b0-c0b3-cf03e51654aa"
      },
      "execution_count": null,
      "outputs": [
        {
          "output_type": "stream",
          "name": "stdout",
          "text": [
            "F1 score of naive bayes = 1.0\n"
          ]
        }
      ]
    },
    {
      "cell_type": "code",
      "source": [
        "#confusion matrix\n",
        "cm3 = confusion_matrix(y_test, gnb_predictions)\n",
        "cm3"
      ],
      "metadata": {
        "colab": {
          "base_uri": "https://localhost:8080/"
        },
        "id": "If7J212l9FlI",
        "outputId": "d16e59b9-e0a7-4a1f-af9d-4076516f8852"
      },
      "execution_count": null,
      "outputs": [
        {
          "output_type": "execute_result",
          "data": {
            "text/plain": [
              "array([[39,  0,  0,  0],\n",
              "       [ 0, 32,  0,  0],\n",
              "       [ 0,  0, 32,  0],\n",
              "       [ 0,  0,  0, 41]])"
            ]
          },
          "metadata": {},
          "execution_count": 67
        }
      ]
    },
    {
      "cell_type": "code",
      "source": [
        "plt.figure(figsize = (10,7))\n",
        "sns.heatmap(cm3, annot = True)\n",
        "plt.xlabel('Predicted')\n",
        "plt.ylabel('Truth')\n",
        "plt.title(\"confusion matrix of naive bayes\")"
      ],
      "metadata": {
        "colab": {
          "base_uri": "https://localhost:8080/",
          "height": 658
        },
        "id": "50XSPIi79N79",
        "outputId": "918047dd-f9fe-429e-cbb5-61d11e5d9926"
      },
      "execution_count": null,
      "outputs": [
        {
          "output_type": "execute_result",
          "data": {
            "text/plain": [
              "Text(0.5, 1.0, 'confusion matrix of naive bayes')"
            ]
          },
          "metadata": {},
          "execution_count": 68
        },
        {
          "output_type": "display_data",
          "data": {
            "text/plain": [
              "<Figure size 1000x700 with 2 Axes>"
            ],
            "image/png": "[encoded data removed]"
          },
          "metadata": {}
        }
      ]
    },
    {
      "cell_type": "markdown",
      "source": [
        "#Report of importance of feature"
      ],
      "metadata": {
        "id": "giZTmryr9fv-"
      }
    },
    {
      "cell_type": "code",
      "source": [
        "import seaborn as sn\n",
        "plt.figure(figsize = (10,7))\n",
        "sn.heatmap(df.corr())\n",
        "plt.xlabel('x')\n",
        "plt.ylabel('y')"
      ],
      "metadata": {
        "colab": {
          "base_uri": "https://localhost:8080/",
          "height": 715
        },
        "id": "f3L0dwyR9eyF",
        "outputId": "19622599-b4ce-449a-af5a-9c8172224867"
      },
      "execution_count": null,
      "outputs": [
        {
          "output_type": "execute_result",
          "data": {
            "text/plain": [
              "Text(95.72222222222221, 0.5, 'y')"
            ]
          },
          "metadata": {},
          "execution_count": 69
        },
        {
          "output_type": "display_data",
          "data": {
            "text/plain": [
              "<Figure size 1000x700 with 2 Axes>"
            ],
            "image/png": "[encoded data removed]"
          },
          "metadata": {}
        }
      ]
    },
    {
      "cell_type": "code",
      "source": [
        "x1=['Comp', 'Circ', 'D.Circ', 'Rad.Ra', 'Pr.Axis.Ra', 'Max.L.Ra', 'Scat.Ra',\n",
        "       'Elong', 'Pr.Axis.Rect', 'Max.L.Rect', 'Sc.Var.Maxis', 'Sc.Var.maxis',\n",
        "       'Ra.Gyr', 'Skew.Maxis', 'Skew.maxis', 'Kurt.maxis', 'Kurt.Maxis',\n",
        "       'Holl.Ra', 'Class']\n",
        "coeff_df = pd.DataFrame (logistic_regression.coef_[0],['Comp', 'Circ', 'D.Circ', 'Rad.Ra', 'Pr.Axis.Ra', 'Max.L.Ra', 'Scat.Ra',\n",
        "       'Elong', 'Pr.Axis.Rect', 'Max.L.Rect', 'Sc.Var.Maxis', 'Sc.Var.maxis',\n",
        "       'Ra.Gyr', 'Skew.Maxis', 'Skew.maxis', 'Kurt.maxis', 'Kurt.Maxis',\n",
        "       'Holl.Ra','Class'],columns=['Coefficient'])\n",
        "#y_pred = logistic_regression.predict(X_test)\n",
        "coeff_df"
      ],
      "metadata": {
        "colab": {
          "base_uri": "https://localhost:8080/",
          "height": 645
        },
        "id": "GJOtBwEjAXxc",
        "outputId": "f0359d16-fcf5-49c9-b74c-f6b6922ff38b"
      },
      "execution_count": null,
      "outputs": [
        {
          "output_type": "execute_result",
          "data": {
            "text/plain": [
              "              Coefficient\n",
              "Comp             0.046383\n",
              "Circ            -0.009704\n",
              "D.Circ          -0.788907\n",
              "Rad.Ra          -0.881057\n",
              "Pr.Axis.Ra       0.948246\n",
              "Max.L.Ra        -0.730619\n",
              "Scat.Ra         -0.072047\n",
              "Elong           -0.540826\n",
              "Pr.Axis.Rect    -0.271796\n",
              "Max.L.Rect       0.261408\n",
              "Sc.Var.Maxis     0.587738\n",
              "Sc.Var.maxis    -0.117322\n",
              "Ra.Gyr           0.343725\n",
              "Skew.Maxis       1.101411\n",
              "Skew.maxis      -0.335668\n",
              "Kurt.maxis      -0.012635\n",
              "Kurt.Maxis       1.207263\n",
              "Holl.Ra         -0.486621\n",
              "Class           -4.722227"
            ],
            "text/html": [
              "\n",
              "  <div id=\"df-084707d2-1179-44c7-8639-3c6cb2e103a2\">\n",
              "    <div class=\"colab-df-container\">\n",
              "      <div>\n",
              "<style scoped>\n",
              "    .dataframe tbody tr th:only-of-type {\n",
              "        vertical-align: middle;\n",
              "    }\n",
              "\n",
              "    .dataframe tbody tr th {\n",
              "        vertical-align: top;\n",
              "    }\n",
              "\n",
              "    .dataframe thead th {\n",
              "        text-align: right;\n",
              "    }\n",
              "</style>\n",
              "<table border=\"1\" class=\"dataframe\">\n",
              "  <thead>\n",
              "    <tr style=\"text-align: right;\">\n",
              "      <th></th>\n",
              "      <th>Coefficient</th>\n",
              "    </tr>\n",
              "  </thead>\n",
              "  <tbody>\n",
              "    <tr>\n",
              "      <th>Comp</th>\n",
              "      <td>0.046383</td>\n",
              "    </tr>\n",
              "    <tr>\n",
              "      <th>Circ</th>\n",
              "      <td>-0.009704</td>\n",
              "    </tr>\n",
              "    <tr>\n",
              "      <th>D.Circ</th>\n",
              "      <td>-0.788907</td>\n",
              "    </tr>\n",
              "    <tr>\n",
              "      <th>Rad.Ra</th>\n",
              "      <td>-0.881057</td>\n",
              "    </tr>\n",
              "    <tr>\n",
              "      <th>Pr.Axis.Ra</th>\n",
              "      <td>0.948246</td>\n",
              "    </tr>\n",
              "    <tr>\n",
              "      <th>Max.L.Ra</th>\n",
              "      <td>-0.730619</td>\n",
              "    </tr>\n",
              "    <tr>\n",
              "      <th>Scat.Ra</th>\n",
              "      <td>-0.072047</td>\n",
              "    </tr>\n",
              "    <tr>\n",
              "      <th>Elong</th>\n",
              "      <td>-0.540826</td>\n",
              "    </tr>\n",
              "    <tr>\n",
              "      <th>Pr.Axis.Rect</th>\n",
              "      <td>-0.271796</td>\n",
              "    </tr>\n",
              "    <tr>\n",
              "      <th>Max.L.Rect</th>\n",
              "      <td>0.261408</td>\n",
              "    </tr>\n",
              "    <tr>\n",
              "      <th>Sc.Var.Maxis</th>\n",
              "      <td>0.587738</td>\n",
              "    </tr>\n",
              "    <tr>\n",
              "      <th>Sc.Var.maxis</th>\n",
              "      <td>-0.117322</td>\n",
              "    </tr>\n",
              "    <tr>\n",
              "      <th>Ra.Gyr</th>\n",
              "      <td>0.343725</td>\n",
              "    </tr>\n",
              "    <tr>\n",
              "      <th>Skew.Maxis</th>\n",
              "      <td>1.101411</td>\n",
              "    </tr>\n",
              "    <tr>\n",
              "      <th>Skew.maxis</th>\n",
              "      <td>-0.335668</td>\n",
              "    </tr>\n",
              "    <tr>\n",
              "      <th>Kurt.maxis</th>\n",
              "      <td>-0.012635</td>\n",
              "    </tr>\n",
              "    <tr>\n",
              "      <th>Kurt.Maxis</th>\n",
              "      <td>1.207263</td>\n",
              "    </tr>\n",
              "    <tr>\n",
              "      <th>Holl.Ra</th>\n",
              "      <td>-0.486621</td>\n",
              "    </tr>\n",
              "    <tr>\n",
              "      <th>Class</th>\n",
              "      <td>-4.722227</td>\n",
              "    </tr>\n",
              "  </tbody>\n",
              "</table>\n",
              "</div>\n",
              "      <button class=\"colab-df-convert\" onclick=\"convertToInteractive('df-084707d2-1179-44c7-8639-3c6cb2e103a2')\"\n",
              "              title=\"Convert this dataframe to an interactive table.\"\n",
              "              style=\"display:none;\">\n",
              "        \n",
              "  <svg xmlns=\"http://www.w3.org/2000/svg\" height=\"24px\"viewBox=\"0 0 24 24\"\n",
              "       width=\"24px\">\n",
              "    <path d=\"M0 0h24v24H0V0z\" fill=\"none\"/>\n",
              "    <path d=\"M18.56 5.44l.94 2.06.94-2.06 2.06-.94-2.06-.94-.94-2.06-.94 2.06-2.06.94zm-11 1L8.5 8.5l.94-2.06 2.06-.94-2.06-.94L8.5 2.5l-.94 2.06-2.06.94zm10 10l.94 2.06.94-2.06 2.06-.94-2.06-.94-.94-2.06-.94 2.06-2.06.94z\"/><path d=\"M17.41 7.96l-1.37-1.37c-.4-.4-.92-.59-1.43-.59-.52 0-1.04.2-1.43.59L10.3 9.45l-7.72 7.72c-.78.78-.78 2.05 0 2.83L4 21.41c.39.39.9.59 1.41.59.51 0 1.02-.2 1.41-.59l7.78-7.78 2.81-2.81c.8-.78.8-2.07 0-2.86zM5.41 20L4 18.59l7.72-7.72 1.47 1.35L5.41 20z\"/>\n",
              "  </svg>\n",
              "      </button>\n",
              "      \n",
              "  <style>\n",
              "    .colab-df-container {\n",
              "      display:flex;\n",
              "      flex-wrap:wrap;\n",
              "      gap: 12px;\n",
              "    }\n",
              "\n",
              "    .colab-df-convert {\n",
              "      background-color: #E8F0FE;\n",
              "      border: none;\n",
              "      border-radius: 50%;\n",
              "      cursor: pointer;\n",
              "      display: none;\n",
              "      fill: #1967D2;\n",
              "      height: 32px;\n",
              "      padding: 0 0 0 0;\n",
              "      width: 32px;\n",
              "    }\n",
              "\n",
              "    .colab-df-convert:hover {\n",
              "      background-color: #E2EBFA;\n",
              "      box-shadow: 0px 1px 2px rgba(60, 64, 67, 0.3), 0px 1px 3px 1px rgba(60, 64, 67, 0.15);\n",
              "      fill: #174EA6;\n",
              "    }\n",
              "\n",
              "    [theme=dark] .colab-df-convert {\n",
              "      background-color: #3B4455;\n",
              "      fill: #D2E3FC;\n",
              "    }\n",
              "\n",
              "    [theme=dark] .colab-df-convert:hover {\n",
              "      background-color: #434B5C;\n",
              "      box-shadow: 0px 1px 3px 1px rgba(0, 0, 0, 0.15);\n",
              "      filter: drop-shadow(0px 1px 2px rgba(0, 0, 0, 0.3));\n",
              "      fill: #FFFFFF;\n",
              "    }\n",
              "  </style>\n",
              "\n",
              "      <script>\n",
              "        const buttonEl =\n",
              "          document.querySelector('#df-084707d2-1179-44c7-8639-3c6cb2e103a2 button.colab-df-convert');\n",
              "        buttonEl.style.display =\n",
              "          google.colab.kernel.accessAllowed ? 'block' : 'none';\n",
              "\n",
              "        async function convertToInteractive(key) {\n",
              "          const element = document.querySelector('#df-084707d2-1179-44c7-8639-3c6cb2e103a2');\n",
              "          const dataTable =\n",
              "            await google.colab.kernel.invokeFunction('convertToInteractive',\n",
              "                                                     [key], {});\n",
              "          if (!dataTable) return;\n",
              "\n",
              "          const docLinkHtml = 'Like what you see? Visit the ' +\n",
              "            '<a target=\"_blank\" href=https://colab.research.google.com/notebooks/data_table.ipynb>data table notebook</a>'\n",
              "            + ' to learn more about interactive tables.';\n",
              "          element.innerHTML = '';\n",
              "          dataTable['output_type'] = 'display_data';\n",
              "          await google.colab.output.renderOutput(dataTable, element);\n",
              "          const docLink = document.createElement('div');\n",
              "          docLink.innerHTML = docLinkHtml;\n",
              "          element.appendChild(docLink);\n",
              "        }\n",
              "      </script>\n",
              "    </div>\n",
              "  </div>\n",
              "  "
            ]
          },
          "metadata": {},
          "execution_count": 70
        }
      ]
    },
    {
      "cell_type": "code",
      "source": [
        "df.to_csv(\"final_model2.csv\",index=False)"
      ],
      "metadata": {
        "id": "xBt8BHg0Imgc"
      },
      "execution_count": null,
      "outputs": []
    },
    {
      "cell_type": "markdown",
      "source": [
        "#   first 5 important Feature in this dataset given below"
      ],
      "metadata": {
        "id": "9dMpTP4aFsbo"
      }
    },
    {
      "cell_type": "markdown",
      "source": [
        "#1.kurt.Maxis\n",
        "#2.skew.Maxis\n",
        "#3.Pr.Axis.ra\n",
        "#4.Rad.Ra\n",
        "#5.D.circ\n",
        "\n",
        "\n",
        "\n",
        "\n",
        "\n",
        "\n"
      ],
      "metadata": {
        "id": "lqN2mVUzFOdl"
      }
    },
    {
      "cell_type": "markdown",
      "source": [
        "#Finally the one vs rest multiclass classification extension is suite for this dataset"
      ],
      "metadata": {
        "id": "MLWJf3_0Gw-K"
      }
    },
    {
      "cell_type": "markdown",
      "source": [
        "#---------------------------END--------------------------------"
      ],
      "metadata": {
        "id": "pZKNoUO_GVAY"
      }
    }
  ]
}